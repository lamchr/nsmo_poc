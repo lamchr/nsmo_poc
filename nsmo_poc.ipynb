{
  "cells": [
    {
      "cell_type": "markdown",
      "metadata": {
        "id": "view-in-github",
        "colab_type": "text"
      },
      "source": [
        "<a href=\"https://colab.research.google.com/github/lamchr/nsmo_poc/blob/main/nsmo_poc.ipynb\" target=\"_parent\"><img src=\"https://colab.research.google.com/assets/colab-badge.svg\" alt=\"Open In Colab\"/></a>"
      ]
    },
    {
      "cell_type": "markdown",
      "id": "8ee8dc03-b7ba-481c-80e1-6b22940e9716",
      "metadata": {
        "id": "8ee8dc03-b7ba-481c-80e1-6b22940e9716"
      },
      "source": [
        "# National Survey of Mortgage Originations POC\n",
        "Chris Lam<br>\n",
        "Epistamai<br>\n",
        "Patented with additional patents pending"
      ]
    },
    {
      "cell_type": "markdown",
      "source": [
        "## Purpose\n",
        "The goal of this POC is to demonstrate how to use a protected attribute in a supervised machine learning model without causing disparate treatment (overt discrimination) or disparate impact (covert discrimination). This technology is an example of model-based supervised learning, where we use a causal model of supervised learning to guide the training and execution of a fair classifier."
      ],
      "metadata": {
        "id": "Bsj2w_QTk5rI"
      },
      "id": "Bsj2w_QTk5rI"
    },
    {
      "cell_type": "markdown",
      "id": "f1dc92d7-64a6-473f-92ed-b254701e48de",
      "metadata": {
        "id": "f1dc92d7-64a6-473f-92ed-b254701e48de"
      },
      "source": [
        "## Import libraries and data"
      ]
    },
    {
      "cell_type": "code",
      "execution_count": null,
      "id": "f00c1ec9-b75f-457e-86e6-2282a7c3b46a",
      "metadata": {
        "id": "f00c1ec9-b75f-457e-86e6-2282a7c3b46a"
      },
      "outputs": [],
      "source": [
        "# Import libraries\n",
        "import pandas as pd\n",
        "import os.path\n",
        "from urllib.request import urlretrieve\n",
        "from zipfile import ZipFile\n",
        "import numpy as np\n",
        "\n",
        "from sklearn.preprocessing import LabelEncoder\n",
        "from sklearn.model_selection import train_test_split\n",
        "from sklearn.model_selection import KFold\n",
        "import lightgbm as lgb\n",
        "from sklearn.metrics import roc_auc_score\n",
        "import matplotlib.pyplot as plt"
      ]
    },
    {
      "cell_type": "code",
      "source": [
        "# Load file containing random seeds from Github\n",
        "random_seeds = pd.read_csv('https://raw.githubusercontent.com/lamchr/nsmo_poc/main/random_seeds.csv')"
      ],
      "metadata": {
        "id": "JXhA6Ry2x_qs"
      },
      "id": "JXhA6Ry2x_qs",
      "execution_count": null,
      "outputs": []
    },
    {
      "cell_type": "code",
      "source": [
        "# Load file containing NSMO data from FHFA\n",
        "nsmo_url = 'https://www.fhfa.gov/sites/default/files/2023-07/nsmo_v41_1320_puf_csv_1%20%282%29.zip'\n",
        "nsmo_file = 'nsmo_v41_1320_puf.csv'\n",
        "\n",
        "if not os.path.isfile(nsmo_file):\n",
        "  filehandle, _ = urlretrieve(nsmo_url)\n",
        "  with ZipFile(filehandle, 'r') as zObject:\n",
        "    zObject.extract(nsmo_file)\n",
        "    zObject.close()\n",
        "\n",
        "nsmo = pd.read_csv(nsmo_file)\n",
        "print(nsmo.shape)"
      ],
      "metadata": {
        "id": "LTGaTzaXu9r7",
        "colab": {
          "base_uri": "https://localhost:8080/"
        },
        "outputId": "059acf73-845d-48bd-841c-ab56419688c6"
      },
      "id": "LTGaTzaXu9r7",
      "execution_count": null,
      "outputs": [
        {
          "output_type": "stream",
          "name": "stdout",
          "text": [
            "(45235, 524)\n"
          ]
        }
      ]
    },
    {
      "cell_type": "code",
      "execution_count": null,
      "id": "226f9927-c669-4ce9-9257-04f5a7513fc7",
      "metadata": {
        "colab": {
          "base_uri": "https://localhost:8080/",
          "height": 236
        },
        "id": "226f9927-c669-4ce9-9257-04f5a7513fc7",
        "outputId": "f02a8d45-fa52-4c91-fb7f-18b84e967ccc"
      },
      "outputs": [
        {
          "output_type": "execute_result",
          "data": {
            "text/plain": [
              "   nsmoid  survey_wave  analysis_weight  x05a  x05b  x05c  x05d  x05e  x05f  \\\n",
              "0  400001           28          1390.65     3     3     3     3     3     1   \n",
              "1  400002            3          1021.33     3     2     3     3     2     1   \n",
              "2  400003           22           751.50     1     1     1     1     1     1   \n",
              "3  400004           10          1544.99     2     2     2     1     1     2   \n",
              "4  400005           21          1927.37     2     2     2     2     2     2   \n",
              "\n",
              "   x05g  ...  mtmltv0920  mtmltv1220  mtmltv0321  mtmltv0621  mtmltv0921  \\\n",
              "0     3  ...          41          40          39          38          35   \n",
              "1     3  ...          -2          -2          -2          -2          -2   \n",
              "2     1  ...          69          -2          -2          -2          -2   \n",
              "3     1  ...          -2          -2          -2          -2          -2   \n",
              "4     2  ...          77          74          71          -2          -2   \n",
              "\n",
              "   mtmltv1221  mtmltv0322  mtmltv0622  mtmltv0922  mtmltv1222  \n",
              "0          33          -2          -2          -2          -2  \n",
              "1          -2          -2          -2          -2          -2  \n",
              "2          -2          -2          -2          -2          -2  \n",
              "3          -2          -2          -2          -2          -2  \n",
              "4          -2          -2          -2          -2          -2  \n",
              "\n",
              "[5 rows x 524 columns]"
            ],
            "text/html": [
              "\n",
              "  <div id=\"df-c04f8251-f5e2-45cc-8eb5-c657f0331425\" class=\"colab-df-container\">\n",
              "    <div>\n",
              "<style scoped>\n",
              "    .dataframe tbody tr th:only-of-type {\n",
              "        vertical-align: middle;\n",
              "    }\n",
              "\n",
              "    .dataframe tbody tr th {\n",
              "        vertical-align: top;\n",
              "    }\n",
              "\n",
              "    .dataframe thead th {\n",
              "        text-align: right;\n",
              "    }\n",
              "</style>\n",
              "<table border=\"1\" class=\"dataframe\">\n",
              "  <thead>\n",
              "    <tr style=\"text-align: right;\">\n",
              "      <th></th>\n",
              "      <th>nsmoid</th>\n",
              "      <th>survey_wave</th>\n",
              "      <th>analysis_weight</th>\n",
              "      <th>x05a</th>\n",
              "      <th>x05b</th>\n",
              "      <th>x05c</th>\n",
              "      <th>x05d</th>\n",
              "      <th>x05e</th>\n",
              "      <th>x05f</th>\n",
              "      <th>x05g</th>\n",
              "      <th>...</th>\n",
              "      <th>mtmltv0920</th>\n",
              "      <th>mtmltv1220</th>\n",
              "      <th>mtmltv0321</th>\n",
              "      <th>mtmltv0621</th>\n",
              "      <th>mtmltv0921</th>\n",
              "      <th>mtmltv1221</th>\n",
              "      <th>mtmltv0322</th>\n",
              "      <th>mtmltv0622</th>\n",
              "      <th>mtmltv0922</th>\n",
              "      <th>mtmltv1222</th>\n",
              "    </tr>\n",
              "  </thead>\n",
              "  <tbody>\n",
              "    <tr>\n",
              "      <th>0</th>\n",
              "      <td>400001</td>\n",
              "      <td>28</td>\n",
              "      <td>1390.65</td>\n",
              "      <td>3</td>\n",
              "      <td>3</td>\n",
              "      <td>3</td>\n",
              "      <td>3</td>\n",
              "      <td>3</td>\n",
              "      <td>1</td>\n",
              "      <td>3</td>\n",
              "      <td>...</td>\n",
              "      <td>41</td>\n",
              "      <td>40</td>\n",
              "      <td>39</td>\n",
              "      <td>38</td>\n",
              "      <td>35</td>\n",
              "      <td>33</td>\n",
              "      <td>-2</td>\n",
              "      <td>-2</td>\n",
              "      <td>-2</td>\n",
              "      <td>-2</td>\n",
              "    </tr>\n",
              "    <tr>\n",
              "      <th>1</th>\n",
              "      <td>400002</td>\n",
              "      <td>3</td>\n",
              "      <td>1021.33</td>\n",
              "      <td>3</td>\n",
              "      <td>2</td>\n",
              "      <td>3</td>\n",
              "      <td>3</td>\n",
              "      <td>2</td>\n",
              "      <td>1</td>\n",
              "      <td>3</td>\n",
              "      <td>...</td>\n",
              "      <td>-2</td>\n",
              "      <td>-2</td>\n",
              "      <td>-2</td>\n",
              "      <td>-2</td>\n",
              "      <td>-2</td>\n",
              "      <td>-2</td>\n",
              "      <td>-2</td>\n",
              "      <td>-2</td>\n",
              "      <td>-2</td>\n",
              "      <td>-2</td>\n",
              "    </tr>\n",
              "    <tr>\n",
              "      <th>2</th>\n",
              "      <td>400003</td>\n",
              "      <td>22</td>\n",
              "      <td>751.50</td>\n",
              "      <td>1</td>\n",
              "      <td>1</td>\n",
              "      <td>1</td>\n",
              "      <td>1</td>\n",
              "      <td>1</td>\n",
              "      <td>1</td>\n",
              "      <td>1</td>\n",
              "      <td>...</td>\n",
              "      <td>69</td>\n",
              "      <td>-2</td>\n",
              "      <td>-2</td>\n",
              "      <td>-2</td>\n",
              "      <td>-2</td>\n",
              "      <td>-2</td>\n",
              "      <td>-2</td>\n",
              "      <td>-2</td>\n",
              "      <td>-2</td>\n",
              "      <td>-2</td>\n",
              "    </tr>\n",
              "    <tr>\n",
              "      <th>3</th>\n",
              "      <td>400004</td>\n",
              "      <td>10</td>\n",
              "      <td>1544.99</td>\n",
              "      <td>2</td>\n",
              "      <td>2</td>\n",
              "      <td>2</td>\n",
              "      <td>1</td>\n",
              "      <td>1</td>\n",
              "      <td>2</td>\n",
              "      <td>1</td>\n",
              "      <td>...</td>\n",
              "      <td>-2</td>\n",
              "      <td>-2</td>\n",
              "      <td>-2</td>\n",
              "      <td>-2</td>\n",
              "      <td>-2</td>\n",
              "      <td>-2</td>\n",
              "      <td>-2</td>\n",
              "      <td>-2</td>\n",
              "      <td>-2</td>\n",
              "      <td>-2</td>\n",
              "    </tr>\n",
              "    <tr>\n",
              "      <th>4</th>\n",
              "      <td>400005</td>\n",
              "      <td>21</td>\n",
              "      <td>1927.37</td>\n",
              "      <td>2</td>\n",
              "      <td>2</td>\n",
              "      <td>2</td>\n",
              "      <td>2</td>\n",
              "      <td>2</td>\n",
              "      <td>2</td>\n",
              "      <td>2</td>\n",
              "      <td>...</td>\n",
              "      <td>77</td>\n",
              "      <td>74</td>\n",
              "      <td>71</td>\n",
              "      <td>-2</td>\n",
              "      <td>-2</td>\n",
              "      <td>-2</td>\n",
              "      <td>-2</td>\n",
              "      <td>-2</td>\n",
              "      <td>-2</td>\n",
              "      <td>-2</td>\n",
              "    </tr>\n",
              "  </tbody>\n",
              "</table>\n",
              "<p>5 rows × 524 columns</p>\n",
              "</div>\n",
              "    <div class=\"colab-df-buttons\">\n",
              "\n",
              "  <div class=\"colab-df-container\">\n",
              "    <button class=\"colab-df-convert\" onclick=\"convertToInteractive('df-c04f8251-f5e2-45cc-8eb5-c657f0331425')\"\n",
              "            title=\"Convert this dataframe to an interactive table.\"\n",
              "            style=\"display:none;\">\n",
              "\n",
              "  <svg xmlns=\"http://www.w3.org/2000/svg\" height=\"24px\" viewBox=\"0 -960 960 960\">\n",
              "    <path d=\"M120-120v-720h720v720H120Zm60-500h600v-160H180v160Zm220 220h160v-160H400v160Zm0 220h160v-160H400v160ZM180-400h160v-160H180v160Zm440 0h160v-160H620v160ZM180-180h160v-160H180v160Zm440 0h160v-160H620v160Z\"/>\n",
              "  </svg>\n",
              "    </button>\n",
              "\n",
              "  <style>\n",
              "    .colab-df-container {\n",
              "      display:flex;\n",
              "      gap: 12px;\n",
              "    }\n",
              "\n",
              "    .colab-df-convert {\n",
              "      background-color: #E8F0FE;\n",
              "      border: none;\n",
              "      border-radius: 50%;\n",
              "      cursor: pointer;\n",
              "      display: none;\n",
              "      fill: #1967D2;\n",
              "      height: 32px;\n",
              "      padding: 0 0 0 0;\n",
              "      width: 32px;\n",
              "    }\n",
              "\n",
              "    .colab-df-convert:hover {\n",
              "      background-color: #E2EBFA;\n",
              "      box-shadow: 0px 1px 2px rgba(60, 64, 67, 0.3), 0px 1px 3px 1px rgba(60, 64, 67, 0.15);\n",
              "      fill: #174EA6;\n",
              "    }\n",
              "\n",
              "    .colab-df-buttons div {\n",
              "      margin-bottom: 4px;\n",
              "    }\n",
              "\n",
              "    [theme=dark] .colab-df-convert {\n",
              "      background-color: #3B4455;\n",
              "      fill: #D2E3FC;\n",
              "    }\n",
              "\n",
              "    [theme=dark] .colab-df-convert:hover {\n",
              "      background-color: #434B5C;\n",
              "      box-shadow: 0px 1px 3px 1px rgba(0, 0, 0, 0.15);\n",
              "      filter: drop-shadow(0px 1px 2px rgba(0, 0, 0, 0.3));\n",
              "      fill: #FFFFFF;\n",
              "    }\n",
              "  </style>\n",
              "\n",
              "    <script>\n",
              "      const buttonEl =\n",
              "        document.querySelector('#df-c04f8251-f5e2-45cc-8eb5-c657f0331425 button.colab-df-convert');\n",
              "      buttonEl.style.display =\n",
              "        google.colab.kernel.accessAllowed ? 'block' : 'none';\n",
              "\n",
              "      async function convertToInteractive(key) {\n",
              "        const element = document.querySelector('#df-c04f8251-f5e2-45cc-8eb5-c657f0331425');\n",
              "        const dataTable =\n",
              "          await google.colab.kernel.invokeFunction('convertToInteractive',\n",
              "                                                    [key], {});\n",
              "        if (!dataTable) return;\n",
              "\n",
              "        const docLinkHtml = 'Like what you see? Visit the ' +\n",
              "          '<a target=\"_blank\" href=https://colab.research.google.com/notebooks/data_table.ipynb>data table notebook</a>'\n",
              "          + ' to learn more about interactive tables.';\n",
              "        element.innerHTML = '';\n",
              "        dataTable['output_type'] = 'display_data';\n",
              "        await google.colab.output.renderOutput(dataTable, element);\n",
              "        const docLink = document.createElement('div');\n",
              "        docLink.innerHTML = docLinkHtml;\n",
              "        element.appendChild(docLink);\n",
              "      }\n",
              "    </script>\n",
              "  </div>\n",
              "\n",
              "\n",
              "<div id=\"df-cb003ecf-7701-45e5-8386-aafb4c59cc53\">\n",
              "  <button class=\"colab-df-quickchart\" onclick=\"quickchart('df-cb003ecf-7701-45e5-8386-aafb4c59cc53')\"\n",
              "            title=\"Suggest charts\"\n",
              "            style=\"display:none;\">\n",
              "\n",
              "<svg xmlns=\"http://www.w3.org/2000/svg\" height=\"24px\"viewBox=\"0 0 24 24\"\n",
              "     width=\"24px\">\n",
              "    <g>\n",
              "        <path d=\"M19 3H5c-1.1 0-2 .9-2 2v14c0 1.1.9 2 2 2h14c1.1 0 2-.9 2-2V5c0-1.1-.9-2-2-2zM9 17H7v-7h2v7zm4 0h-2V7h2v10zm4 0h-2v-4h2v4z\"/>\n",
              "    </g>\n",
              "</svg>\n",
              "  </button>\n",
              "\n",
              "<style>\n",
              "  .colab-df-quickchart {\n",
              "      --bg-color: #E8F0FE;\n",
              "      --fill-color: #1967D2;\n",
              "      --hover-bg-color: #E2EBFA;\n",
              "      --hover-fill-color: #174EA6;\n",
              "      --disabled-fill-color: #AAA;\n",
              "      --disabled-bg-color: #DDD;\n",
              "  }\n",
              "\n",
              "  [theme=dark] .colab-df-quickchart {\n",
              "      --bg-color: #3B4455;\n",
              "      --fill-color: #D2E3FC;\n",
              "      --hover-bg-color: #434B5C;\n",
              "      --hover-fill-color: #FFFFFF;\n",
              "      --disabled-bg-color: #3B4455;\n",
              "      --disabled-fill-color: #666;\n",
              "  }\n",
              "\n",
              "  .colab-df-quickchart {\n",
              "    background-color: var(--bg-color);\n",
              "    border: none;\n",
              "    border-radius: 50%;\n",
              "    cursor: pointer;\n",
              "    display: none;\n",
              "    fill: var(--fill-color);\n",
              "    height: 32px;\n",
              "    padding: 0;\n",
              "    width: 32px;\n",
              "  }\n",
              "\n",
              "  .colab-df-quickchart:hover {\n",
              "    background-color: var(--hover-bg-color);\n",
              "    box-shadow: 0 1px 2px rgba(60, 64, 67, 0.3), 0 1px 3px 1px rgba(60, 64, 67, 0.15);\n",
              "    fill: var(--button-hover-fill-color);\n",
              "  }\n",
              "\n",
              "  .colab-df-quickchart-complete:disabled,\n",
              "  .colab-df-quickchart-complete:disabled:hover {\n",
              "    background-color: var(--disabled-bg-color);\n",
              "    fill: var(--disabled-fill-color);\n",
              "    box-shadow: none;\n",
              "  }\n",
              "\n",
              "  .colab-df-spinner {\n",
              "    border: 2px solid var(--fill-color);\n",
              "    border-color: transparent;\n",
              "    border-bottom-color: var(--fill-color);\n",
              "    animation:\n",
              "      spin 1s steps(1) infinite;\n",
              "  }\n",
              "\n",
              "  @keyframes spin {\n",
              "    0% {\n",
              "      border-color: transparent;\n",
              "      border-bottom-color: var(--fill-color);\n",
              "      border-left-color: var(--fill-color);\n",
              "    }\n",
              "    20% {\n",
              "      border-color: transparent;\n",
              "      border-left-color: var(--fill-color);\n",
              "      border-top-color: var(--fill-color);\n",
              "    }\n",
              "    30% {\n",
              "      border-color: transparent;\n",
              "      border-left-color: var(--fill-color);\n",
              "      border-top-color: var(--fill-color);\n",
              "      border-right-color: var(--fill-color);\n",
              "    }\n",
              "    40% {\n",
              "      border-color: transparent;\n",
              "      border-right-color: var(--fill-color);\n",
              "      border-top-color: var(--fill-color);\n",
              "    }\n",
              "    60% {\n",
              "      border-color: transparent;\n",
              "      border-right-color: var(--fill-color);\n",
              "    }\n",
              "    80% {\n",
              "      border-color: transparent;\n",
              "      border-right-color: var(--fill-color);\n",
              "      border-bottom-color: var(--fill-color);\n",
              "    }\n",
              "    90% {\n",
              "      border-color: transparent;\n",
              "      border-bottom-color: var(--fill-color);\n",
              "    }\n",
              "  }\n",
              "</style>\n",
              "\n",
              "  <script>\n",
              "    async function quickchart(key) {\n",
              "      const quickchartButtonEl =\n",
              "        document.querySelector('#' + key + ' button');\n",
              "      quickchartButtonEl.disabled = true;  // To prevent multiple clicks.\n",
              "      quickchartButtonEl.classList.add('colab-df-spinner');\n",
              "      try {\n",
              "        const charts = await google.colab.kernel.invokeFunction(\n",
              "            'suggestCharts', [key], {});\n",
              "      } catch (error) {\n",
              "        console.error('Error during call to suggestCharts:', error);\n",
              "      }\n",
              "      quickchartButtonEl.classList.remove('colab-df-spinner');\n",
              "      quickchartButtonEl.classList.add('colab-df-quickchart-complete');\n",
              "    }\n",
              "    (() => {\n",
              "      let quickchartButtonEl =\n",
              "        document.querySelector('#df-cb003ecf-7701-45e5-8386-aafb4c59cc53 button');\n",
              "      quickchartButtonEl.style.display =\n",
              "        google.colab.kernel.accessAllowed ? 'block' : 'none';\n",
              "    })();\n",
              "  </script>\n",
              "</div>\n",
              "    </div>\n",
              "  </div>\n"
            ],
            "application/vnd.google.colaboratory.intrinsic+json": {
              "type": "dataframe",
              "variable_name": "nsmo"
            }
          },
          "metadata": {},
          "execution_count": 5
        }
      ],
      "source": [
        "nsmo.head()"
      ]
    },
    {
      "cell_type": "markdown",
      "id": "9b1a838d-9b39-4833-b8a0-dc8773c05b1e",
      "metadata": {
        "id": "9b1a838d-9b39-4833-b8a0-dc8773c05b1e"
      },
      "source": [
        "## Feature engineering\n",
        "### Generate the target variable\n",
        "We generate the target variable by modifying the Perf_Status variable using the following criteria:\n",
        "- Codes {2, 3, 4, 5, 6, 7, 8, 9} are defaults (at least 60 days past due, bankruptcy, or foreclosure).\n",
        "- Codes {1, A, B, C, K, M, P, Q, S} are non-defaults."
      ]
    },
    {
      "cell_type": "code",
      "execution_count": null,
      "id": "02ca0e54-f7a8-48f5-878a-7290674d1ccf",
      "metadata": {
        "id": "02ca0e54-f7a8-48f5-878a-7290674d1ccf"
      },
      "outputs": [],
      "source": [
        "perf_status_col = [col for col in nsmo if col.startswith('perf_status_')]\n",
        "non_default_codes = ['1', 'A', 'B', 'C', 'K', 'M', 'P', 'Q', 'S']\n",
        "default_codes = ['2', '3', '4', '5', '6', '7', '8', '9']"
      ]
    },
    {
      "cell_type": "code",
      "execution_count": null,
      "id": "48d6097b-c800-4d26-9e24-848c281f6632",
      "metadata": {
        "id": "48d6097b-c800-4d26-9e24-848c281f6632"
      },
      "outputs": [],
      "source": [
        "# Create a new 'perf_status' column where 0 = non-default and 1 = default\n",
        "nsmo['perf_status'] = (nsmo[perf_status_col].replace(\n",
        "    non_default_codes, 0).replace(default_codes, 1) == 1).any(axis=1).astype(\n",
        "        int)"
      ]
    },
    {
      "cell_type": "code",
      "execution_count": null,
      "id": "22f81aa2-5dbc-44ed-8b5a-b4f0d69dd188",
      "metadata": {
        "colab": {
          "base_uri": "https://localhost:8080/"
        },
        "id": "22f81aa2-5dbc-44ed-8b5a-b4f0d69dd188",
        "outputId": "4e169b17-6d7e-491b-ea46-bcfa405a4c21"
      },
      "outputs": [
        {
          "output_type": "execute_result",
          "data": {
            "text/plain": [
              "0    44423\n",
              "1      812\n",
              "Name: perf_status, dtype: int64"
            ]
          },
          "metadata": {},
          "execution_count": 7
        }
      ],
      "source": [
        "# Examine the distribution of the target\n",
        "nsmo['perf_status'].value_counts()"
      ]
    },
    {
      "cell_type": "code",
      "execution_count": null,
      "id": "65bfb58d-6094-490e-b97c-5acca85f0152",
      "metadata": {
        "colab": {
          "base_uri": "https://localhost:8080/",
          "height": 448
        },
        "id": "65bfb58d-6094-490e-b97c-5acca85f0152",
        "outputId": "a5059d30-3c98-46c4-d02d-d51314d78a15"
      },
      "outputs": [
        {
          "output_type": "execute_result",
          "data": {
            "text/plain": [
              "<Axes: ylabel='Frequency'>"
            ]
          },
          "metadata": {},
          "execution_count": 8
        },
        {
          "output_type": "display_data",
          "data": {
            "text/plain": [
              "<Figure size 640x480 with 1 Axes>"
            ],
            "image/png": "[encoded data removed]"
          },
          "metadata": {}
        }
      ],
      "source": [
        "# Visualize the distribution of the target\n",
        "nsmo['perf_status'].plot.hist()"
      ]
    },
    {
      "cell_type": "code",
      "source": [
        "default_pct = round((nsmo['perf_status'][nsmo['perf_status'] > 0].count() /\n",
        "                     nsmo.shape[0]) * 100, 1)\n",
        "print('Percentage of loans resulting in default: ' + str(default_pct) + '%')"
      ],
      "metadata": {
        "colab": {
          "base_uri": "https://localhost:8080/"
        },
        "id": "A8pjWXGPEgGg",
        "outputId": "ed27e477-1535-455c-8830-4feed6ed1c2c"
      },
      "id": "A8pjWXGPEgGg",
      "execution_count": null,
      "outputs": [
        {
          "output_type": "stream",
          "name": "stdout",
          "text": [
            "Percentage of loans resulting in default: 1.8%\n"
          ]
        }
      ]
    },
    {
      "cell_type": "code",
      "execution_count": null,
      "id": "067a9b31-7523-4a83-b2a5-a4c3bfd0f20e",
      "metadata": {
        "id": "067a9b31-7523-4a83-b2a5-a4c3bfd0f20e"
      },
      "outputs": [],
      "source": [
        "# Drop the old perf_status columns\n",
        "nsmo.drop(perf_status_col, axis=1, inplace=True)"
      ]
    },
    {
      "cell_type": "markdown",
      "id": "29b61052-3d77-464f-95e5-1ae23560bd8a",
      "metadata": {
        "id": "29b61052-3d77-464f-95e5-1ae23560bd8a"
      },
      "source": [
        "### Generate the protected attribute\n",
        "We generate the race attribute by combining variables X77R (Hispanic or Latino) and X78R (Race) using the following criteria:\n",
        "- X78R (Race) = 1 (White only) and X77R (Hispanic or Latino) = 2 (No): W for non-Hispanic White\n",
        "- X78R (Race) = 1 (White only) and X77R (Hispanic or Latino) = 1 (Yes): H for Hispanic White\n",
        "- X78R (Race) = 2 (Black or African American only): B for Black\n",
        "- X78R (Race) = 3 (Asian only): A for Asian\n",
        "- X78R (Race) = 4 (All other races): O for Other"
      ]
    },
    {
      "cell_type": "code",
      "execution_count": null,
      "id": "f2874669-e4e3-40cd-9176-36de692de213",
      "metadata": {
        "id": "f2874669-e4e3-40cd-9176-36de692de213"
      },
      "outputs": [],
      "source": [
        "nsmo['race'] = nsmo['x78r'].map({1: 'W', 2: 'B', 3: 'A', 4: 'O'})\n",
        "nsmo['race'] = np.where((nsmo['race'] == 'W') & (nsmo['x77r'] == 1), 'H',\n",
        "                        nsmo['race'])"
      ]
    },
    {
      "cell_type": "code",
      "execution_count": null,
      "id": "9023e1e5-fb46-4666-817b-d17388cb07e6",
      "metadata": {
        "colab": {
          "base_uri": "https://localhost:8080/"
        },
        "id": "9023e1e5-fb46-4666-817b-d17388cb07e6",
        "outputId": "18d90c0a-31b0-40b8-c046-6af46e936309"
      },
      "outputs": [
        {
          "output_type": "execute_result",
          "data": {
            "text/plain": [
              "W    35292\n",
              "H     3182\n",
              "B     2746\n",
              "A     2656\n",
              "O     1359\n",
              "Name: race, dtype: int64"
            ]
          },
          "metadata": {},
          "execution_count": 12
        }
      ],
      "source": [
        "# Examine the distribution of the various racial groups\n",
        "nsmo['race'].value_counts()"
      ]
    },
    {
      "cell_type": "code",
      "execution_count": null,
      "id": "a7d76acc-31eb-4325-9d59-53e88522c88e",
      "metadata": {
        "id": "a7d76acc-31eb-4325-9d59-53e88522c88e"
      },
      "outputs": [],
      "source": [
        "# Drop the old x77r and x78r columns\n",
        "nsmo.drop(['x77r', 'x78r'], axis=1, inplace=True)"
      ]
    },
    {
      "cell_type": "code",
      "source": [
        "# Create a new dataframe to track id and race\n",
        "nsmo_race = nsmo[['nsmoid', 'race']]"
      ],
      "metadata": {
        "id": "CCyaMYFP6fjc"
      },
      "id": "CCyaMYFP6fjc",
      "execution_count": null,
      "outputs": []
    },
    {
      "cell_type": "markdown",
      "source": [
        "### Generate features"
      ],
      "metadata": {
        "id": "kHJGo48tLwWF"
      },
      "id": "kHJGo48tLwWF"
    },
    {
      "cell_type": "code",
      "source": [
        "# NSMO X variables (multiple choice questions)\n",
        "x_col = [col for col in nsmo if col.startswith('x')]\n",
        "x_bool = [x for x in x_col if nsmo[x].nunique() == 2]\n",
        "x_cat = [x for x in x_col if nsmo[x].nunique() > 2]\n",
        "x_cat.remove('x74r') # do not category encode age"
      ],
      "metadata": {
        "id": "NomQlMTkLyQz"
      },
      "id": "NomQlMTkLyQz",
      "execution_count": null,
      "outputs": []
    },
    {
      "cell_type": "code",
      "source": [
        "# NSMO Z variables (continuous variables, but only indicating whether the\n",
        "# question was answered)\n",
        "z_col = [col for col in nsmo if col.startswith('z')]\n",
        "z_bool = [z for z in z_col if nsmo[z].nunique() == 2]\n",
        "z_cat = [z for z in z_col if nsmo[z].nunique() > 2]"
      ],
      "metadata": {
        "id": "py6JHEs3L6I5"
      },
      "id": "py6JHEs3L6I5",
      "execution_count": null,
      "outputs": []
    },
    {
      "cell_type": "code",
      "source": [
        "# Supplementary variables\n",
        "supp_cont = ['open_year', 'rate_spread', 'pmms', 'term', 'ltv', 'cltv', 'dti',\n",
        "             'pti', 'borrower_num', 'age_o1', 'age_o2', 'age_o3']\n",
        "supp_cat = ['open_month', 'loan_amount_cat', 'loan_type', 'gse', 'metro_lmi',\n",
        "            'borrower_r', 'borrower_s', 'sex_o1', 'sex_o2', 'sex_o3',\n",
        "            'first_mort_r', 'first_mort_s', 'first_mort_o1', 'first_mort_o2',\n",
        "            'first_mort_o3']\n",
        "supp_bool = ['jumbo', 'cu']"
      ],
      "metadata": {
        "id": "zjWId7E1L_OR"
      },
      "id": "zjWId7E1L_OR",
      "execution_count": null,
      "outputs": []
    },
    {
      "cell_type": "markdown",
      "id": "f5057fd2-3886-4b76-9285-2c0eb6f1f471",
      "metadata": {
        "id": "f5057fd2-3886-4b76-9285-2c0eb6f1f471"
      },
      "source": [
        "### Drop supplemental features that are unnecessary or may cause data leakage"
      ]
    },
    {
      "cell_type": "code",
      "execution_count": null,
      "id": "28dc9573-2c3e-4dd2-9eb7-2fba43d37a2e",
      "metadata": {
        "id": "28dc9573-2c3e-4dd2-9eb7-2fba43d37a2e"
      },
      "outputs": [],
      "source": [
        "# Drop all scoring features not available at origination\n",
        "supp_scor = ['score_orig_r', 'score_orig_s', 'score_orig_o1', 'score_orig_o2',\n",
        "             'score_orig_o3']\n",
        "nsmo.drop(list(set([col for col in nsmo if col.startswith('score_')]).difference(\n",
        "    set(supp_scor))), axis=1, inplace=True)\n",
        "\n",
        "# Drop forbearance features\n",
        "nsmo.drop([col for col in nsmo if col.startswith('forb')], axis=1, inplace=True)\n",
        "\n",
        "# Drop mark-to-market loan-to-value ratio features\n",
        "nsmo.drop([col for col in nsmo if col.startswith('mtmltv')], axis=1, inplace=True)\n",
        "\n",
        "# Drop supplemental features only available at closing\n",
        "nsmo.drop(['close_year', 'close_month', 'close_status_1222', 'cashout'], axis=1,\n",
        "          inplace=True)\n",
        "\n",
        "# Drop remaining unnecessary features\n",
        "nsmo.drop(['survey_wave', 'analysis_weight'], axis=1, inplace=True)"
      ]
    },
    {
      "cell_type": "markdown",
      "source": [
        "### Encode categorical features"
      ],
      "metadata": {
        "id": "gDQy_4MwHyxm"
      },
      "id": "gDQy_4MwHyxm"
    },
    {
      "cell_type": "code",
      "source": [
        "# Label encode boolean variables\n",
        "from sklearn.preprocessing import LabelEncoder\n",
        "le = LabelEncoder()\n",
        "col_bool = x_bool + z_bool + supp_bool\n",
        "for col in col_bool:\n",
        "    le.fit(nsmo[col])\n",
        "    nsmo[col] = le.transform(nsmo[col])"
      ],
      "metadata": {
        "id": "c--vNeC5Ibqd"
      },
      "id": "c--vNeC5Ibqd",
      "execution_count": null,
      "outputs": []
    },
    {
      "cell_type": "code",
      "source": [
        "# One-hot encode categorical variables\n",
        "col_cat = ['race'] + x_cat + z_cat + supp_cat\n",
        "for col in col_cat:\n",
        "    nsmo = nsmo.join(pd.get_dummies(nsmo[col], prefix=col, prefix_sep='.'))\n",
        "\n",
        "# Drop the old col_cat columns\n",
        "nsmo.drop(col_cat, axis=1, inplace=True)"
      ],
      "metadata": {
        "id": "swk1CUYcTLRQ"
      },
      "id": "swk1CUYcTLRQ",
      "execution_count": null,
      "outputs": []
    },
    {
      "cell_type": "markdown",
      "source": [
        "### Identify features most correlated with race (Black) and synthesize proxy variables"
      ],
      "metadata": {
        "id": "RamClrgDyFw6"
      },
      "id": "RamClrgDyFw6"
    },
    {
      "cell_type": "code",
      "source": [
        "# Find correlations among variables\n",
        "corr = nsmo.corr()"
      ],
      "metadata": {
        "id": "EjNQvFeyyKFf"
      },
      "id": "EjNQvFeyyKFf",
      "execution_count": null,
      "outputs": []
    },
    {
      "cell_type": "code",
      "source": [
        "# List the features most positively correlated with race (Black)\n",
        "corr['race.B'].sort_values(ascending=False)[:10]"
      ],
      "metadata": {
        "colab": {
          "base_uri": "https://localhost:8080/"
        },
        "id": "6DxZkieE0IiD",
        "outputId": "724e82d9-36e3-4d2e-c4b4-d5bc6e9a4574"
      },
      "id": "6DxZkieE0IiD",
      "execution_count": null,
      "outputs": [
        {
          "output_type": "execute_result",
          "data": {
            "text/plain": [
              "race.B             1.000000\n",
              "x32.1              0.124292\n",
              "loan_type.2        0.120612\n",
              "ltv                0.112584\n",
              "cltv               0.110489\n",
              "first_mort_s.-2    0.107247\n",
              "x30b.1             0.105446\n",
              "metro_lmi.2        0.103448\n",
              "x06.1              0.102123\n",
              "gse.-2             0.100339\n",
              "Name: race.B, dtype: float64"
            ]
          },
          "metadata": {},
          "execution_count": 22
        }
      ]
    },
    {
      "cell_type": "code",
      "source": [
        "# List the features most negatively correlated with race (Black)\n",
        "corr['race.B'].sort_values()[:10]"
      ],
      "metadata": {
        "colab": {
          "base_uri": "https://localhost:8080/"
        },
        "id": "cyqsiZf23irX",
        "outputId": "9aeb7b4e-1441-48e8-9ab8-120be6bb2137"
      },
      "id": "cyqsiZf23irX",
      "execution_count": null,
      "outputs": [
        {
          "output_type": "execute_result",
          "data": {
            "text/plain": [
              "race.W         -0.478951\n",
              "loan_type.1    -0.153877\n",
              "score_orig_s   -0.114965\n",
              "x30c.-2        -0.108957\n",
              "x30a.-2        -0.108957\n",
              "x30d.-2        -0.108957\n",
              "x32.-2         -0.108957\n",
              "x30b.-2        -0.108957\n",
              "x31.-2         -0.108957\n",
              "x29            -0.108957\n",
              "Name: race.B, dtype: float64"
            ]
          },
          "metadata": {},
          "execution_count": 23
        }
      ]
    },
    {
      "cell_type": "code",
      "source": [
        "# Identify proxies by identifying all X/Z features correlated with race (Black)\n",
        "# and set a cutoff value\n",
        "cutoff = 0.05\n",
        "proxies = list(corr.loc[(corr.index.str.startswith('x') | corr.index.str.\n",
        "                         startswith('z')) & ((corr['race.B'] > cutoff) | (corr[\n",
        "                            'race.B'] < -cutoff))].index)\n",
        "len(proxies)"
      ],
      "metadata": {
        "id": "WCliWwZx4CCG",
        "colab": {
          "base_uri": "https://localhost:8080/"
        },
        "outputId": "d29e3eb1-6be9-40bb-efe0-a8b758ae336b"
      },
      "id": "WCliWwZx4CCG",
      "execution_count": null,
      "outputs": [
        {
          "output_type": "execute_result",
          "data": {
            "text/plain": [
              "89"
            ]
          },
          "metadata": {},
          "execution_count": 24
        }
      ]
    },
    {
      "cell_type": "markdown",
      "source": [
        "### Do overlap testing to identify features that may cause a positivity violation with race.\n",
        "We do this by checking if there are any columns where there are no Whites who have this value, which means that the variable may act as a proxy for non-Whites. <br><br>\n",
        "For this POC, we assume that just having one example is sufficient to prevent a positivity violation. In practice, we would want more examples so that the classifier has enough instances to isolate the causal and spurious effects."
      ],
      "metadata": {
        "id": "fHhw9EtlMnN-"
      },
      "id": "fHhw9EtlMnN-"
    },
    {
      "cell_type": "code",
      "source": [
        "# Identify positivity violations\n",
        "xz_col = [col for col in nsmo if col.startswith('x')] + [col for col in nsmo\n",
        "                                                         if col.startswith('z')]\n",
        "n_unique = nsmo[nsmo['race.W'] == 1][xz_col].nunique()\n",
        "pos_viol = list(n_unique[n_unique < 2].index)"
      ],
      "metadata": {
        "id": "En_gBWmDMxI-"
      },
      "id": "En_gBWmDMxI-",
      "execution_count": null,
      "outputs": []
    },
    {
      "cell_type": "code",
      "source": [
        "# Print out number of features in the dataset that have a positivity violation\n",
        "len(pos_viol)"
      ],
      "metadata": {
        "colab": {
          "base_uri": "https://localhost:8080/"
        },
        "id": "xmg36eogVMZ0",
        "outputId": "85cb8365-ef59-40a6-a960-c425a43c37de"
      },
      "id": "xmg36eogVMZ0",
      "execution_count": null,
      "outputs": [
        {
          "output_type": "execute_result",
          "data": {
            "text/plain": [
              "0"
            ]
          },
          "metadata": {},
          "execution_count": 26
        }
      ]
    },
    {
      "cell_type": "markdown",
      "source": [
        "In this dataset, we have no positivity violations. This means that in our counterfactual inferences, we can control for the spurious effect of race for a particular value so that only the causal effect of that value is used for prediction.<br><br>\n",
        "If we had positivity violations, we would develop a rule table to replace individual values that could act as a proxy for race with another individual value. We would then apply the value replacement rules during inference."
      ],
      "metadata": {
        "id": "V9-by3WbXNRf"
      },
      "id": "V9-by3WbXNRf"
    },
    {
      "cell_type": "markdown",
      "source": [
        "## Model Building"
      ],
      "metadata": {
        "id": "6edg8JkpCtyG"
      },
      "id": "6edg8JkpCtyG"
    },
    {
      "cell_type": "markdown",
      "source": [
        "### Define helper functions"
      ],
      "metadata": {
        "id": "fcdCziO5DqXk"
      },
      "id": "fcdCziO5DqXk"
    },
    {
      "cell_type": "code",
      "source": [
        "# Function to extract and drop specific features\n",
        "def extract_features(data):\n",
        "  data_id = data['nsmoid']          # Get id\n",
        "  data_labels = data['perf_status'] # Get label\n",
        "\n",
        "  # Drop id, race, and labels from dataset\n",
        "  data = data.drop(['nsmoid', 'perf_status'], axis=1)\n",
        "\n",
        "  return data, data_id, data_labels"
      ],
      "metadata": {
        "id": "awDNu_XpwqmL"
      },
      "id": "awDNu_XpwqmL",
      "execution_count": null,
      "outputs": []
    },
    {
      "cell_type": "code",
      "source": [
        "# Create the kfold object\n",
        "k_fold = KFold(n_splits=5, shuffle=True, random_state=random_seeds['kfold'][0])"
      ],
      "metadata": {
        "id": "s2TLnXcmo5N3"
      },
      "id": "s2TLnXcmo5N3",
      "execution_count": null,
      "outputs": []
    },
    {
      "cell_type": "code",
      "source": [
        "# Function to train the model\n",
        "def train_model(features_train, valid_train, labels_train, labels_valid, iter=0):\n",
        "  # Create the model\n",
        "  model = lgb.LGBMClassifier(n_estimators=10000, objective='binary',\n",
        "                             class_weight='balanced', learning_rate=0.05,\n",
        "                             reg_alpha=0.1, reg_lambda=0.1,\n",
        "                             subsample=0.8, n_jobs=-1,\n",
        "                             random_state=random_seeds['lgbm'][iter])\n",
        "\n",
        "  # Train the model\n",
        "  model.fit(features_train, labels_train, eval_metric='auc',\n",
        "            eval_set=[(valid_train, labels_valid), (features_train,\n",
        "                                                       labels_train)],\n",
        "            eval_names=['valid', 'train'], categorical_feature='auto',\n",
        "            callbacks=[lgb.early_stopping(100)])\n",
        "\n",
        "  return model"
      ],
      "metadata": {
        "id": "-1jQo3hqOuv-"
      },
      "id": "-1jQo3hqOuv-",
      "execution_count": null,
      "outputs": []
    },
    {
      "cell_type": "code",
      "source": [
        "# Function to plot feature importance\n",
        "def plot_feature_importance(df, num=15):\n",
        "    # Sort features according to importance\n",
        "    df = df.sort_values('importance', ascending=False).reset_index()\n",
        "\n",
        "    # Normalize the feature importances to add up to one\n",
        "    df['importance_normalized'] = df['importance'] / df['importance'].sum()\n",
        "\n",
        "    # Make a horizontal bar chart of feature importances\n",
        "    plt.figure(figsize = (10, 6))\n",
        "    ax = plt.subplot()\n",
        "\n",
        "    # Need to reverse the index to plot most important on top\n",
        "    ax.barh(list(reversed(list(df.index[:num]))),\n",
        "            df['importance_normalized'].head(num),\n",
        "            align='center', edgecolor='k')\n",
        "\n",
        "    # Set the yticks and labels\n",
        "    ax.set_yticks(list(reversed(list(df.index[:num]))))\n",
        "    ax.set_yticklabels(df['feature'].head(num))\n",
        "\n",
        "    # Plot labeling\n",
        "    plt.xlabel('Normalized Importance')\n",
        "    plt.title('Feature Importances')\n",
        "    plt.show()"
      ],
      "metadata": {
        "id": "MABJEXeEwHr7"
      },
      "id": "MABJEXeEwHr7",
      "execution_count": null,
      "outputs": []
    },
    {
      "cell_type": "markdown",
      "source": [
        "### Build an awareness model that contains all features including the protected attribute"
      ],
      "metadata": {
        "id": "JmRb1NLgDjYb"
      },
      "id": "JmRb1NLgDjYb"
    },
    {
      "cell_type": "code",
      "source": [
        "# Split the data\n",
        "nsmo_train_valid, nsmo_test = train_test_split(nsmo, test_size=0.20,\n",
        "                                               random_state=random_seeds['split'][0])"
      ],
      "metadata": {
        "id": "m03fg5Y-NHrA"
      },
      "id": "m03fg5Y-NHrA",
      "execution_count": null,
      "outputs": []
    },
    {
      "cell_type": "code",
      "source": [
        "# Extract and drop features from data\n",
        "nsmo_train_valid, nsmo_train_valid_id, nsmo_train_valid_labels = extract_features(nsmo_train_valid)\n",
        "nsmo_test, nsmo_test_id, nsmo_test_labels = extract_features(nsmo_test)"
      ],
      "metadata": {
        "id": "Ivo7Fqy10A2h"
      },
      "id": "Ivo7Fqy10A2h",
      "execution_count": null,
      "outputs": []
    },
    {
      "cell_type": "code",
      "source": [
        "# Record features\n",
        "features = nsmo_train_valid.columns\n",
        "\n",
        "# Convert to np arrays\n",
        "nsmo_train_valid = np.array(nsmo_train_valid)\n",
        "nsmo_train_valid_labels = np.array(nsmo_train_valid_labels)\n",
        "\n",
        "# Empty array for feature importances\n",
        "feature_importance_values = np.zeros(nsmo_train_valid.shape[1])\n",
        "\n",
        "# Empty array for test predictions\n",
        "test_predictions = np.zeros(nsmo_test.shape[0])"
      ],
      "metadata": {
        "id": "osfcgb8hZbCC"
      },
      "id": "osfcgb8hZbCC",
      "execution_count": null,
      "outputs": []
    },
    {
      "cell_type": "code",
      "source": [
        "# Iterate through each fold\n",
        "for train_indices, valid_indices in k_fold.split(nsmo_train_valid):\n",
        "  # Training data for the fold\n",
        "  nsmo_train = nsmo_train_valid[train_indices]\n",
        "  nsmo_train_labels = nsmo_train_valid_labels[train_indices]\n",
        "  # Validation data for the fold\n",
        "  nsmo_valid = nsmo_train_valid[valid_indices]\n",
        "  nsmo_valid_labels = nsmo_train_valid_labels[valid_indices]\n",
        "\n",
        "  # Train the awareness model\n",
        "  model = train_model(nsmo_train, nsmo_valid, nsmo_train_labels, nsmo_valid_labels)\n",
        "\n",
        "  # Record the feature importances\n",
        "  feature_importance_values += (model.feature_importances_ / k_fold.n_splits)\n",
        "\n",
        "  # Make predictions\n",
        "  test_predictions += (model.predict_proba(nsmo_test)[:, 1] / k_fold.n_splits)"
      ],
      "metadata": {
        "colab": {
          "base_uri": "https://localhost:8080/"
        },
        "id": "uNTm5PHn0EAi",
        "outputId": "046784b4-852d-4ccd-ee26-8ea6e9c0bc07"
      },
      "id": "uNTm5PHn0EAi",
      "execution_count": null,
      "outputs": [
        {
          "output_type": "stream",
          "name": "stdout",
          "text": [
            "[LightGBM] [Info] Number of positive: 514, number of negative: 28436\n",
            "[LightGBM] [Info] Auto-choosing row-wise multi-threading, the overhead of testing was 0.137284 seconds.\n",
            "You can set `force_row_wise=true` to remove the overhead.\n",
            "And if memory is not enough, you can set `force_col_wise=true`.\n",
            "[LightGBM] [Info] Total Bins 3721\n",
            "[LightGBM] [Info] Number of data points in the train set: 28950, number of used features: 988\n",
            "[LightGBM] [Info] [binary:BoostFromScore]: pavg=0.500000 -> initscore=-0.000000\n",
            "[LightGBM] [Info] Start training from score -0.000000\n",
            "Training until validation scores don't improve for 100 rounds\n",
            "Early stopping, best iteration is:\n",
            "[112]\ttrain's auc: 0.997604\ttrain's binary_logloss: 0.144648\tvalid's auc: 0.868796\tvalid's binary_logloss: 0.188708\n",
            "[LightGBM] [Info] Number of positive: 501, number of negative: 28449\n",
            "[LightGBM] [Info] Auto-choosing row-wise multi-threading, the overhead of testing was 0.118170 seconds.\n",
            "You can set `force_row_wise=true` to remove the overhead.\n",
            "And if memory is not enough, you can set `force_col_wise=true`.\n",
            "[LightGBM] [Info] Total Bins 3728\n",
            "[LightGBM] [Info] Number of data points in the train set: 28950, number of used features: 991\n",
            "[LightGBM] [Info] [binary:BoostFromScore]: pavg=0.500000 -> initscore=0.000000\n",
            "[LightGBM] [Info] Start training from score 0.000000\n",
            "Training until validation scores don't improve for 100 rounds\n",
            "Early stopping, best iteration is:\n",
            "[102]\ttrain's auc: 0.996077\ttrain's binary_logloss: 0.158558\tvalid's auc: 0.883408\tvalid's binary_logloss: 0.205608\n",
            "[LightGBM] [Info] Number of positive: 510, number of negative: 28440\n",
            "[LightGBM] [Info] Auto-choosing row-wise multi-threading, the overhead of testing was 0.363768 seconds.\n",
            "You can set `force_row_wise=true` to remove the overhead.\n",
            "And if memory is not enough, you can set `force_col_wise=true`.\n",
            "[LightGBM] [Info] Total Bins 3728\n",
            "[LightGBM] [Info] Number of data points in the train set: 28950, number of used features: 989\n",
            "[LightGBM] [Info] [binary:BoostFromScore]: pavg=0.500000 -> initscore=-0.000000\n",
            "[LightGBM] [Info] Start training from score -0.000000\n",
            "Training until validation scores don't improve for 100 rounds\n",
            "Early stopping, best iteration is:\n",
            "[89]\ttrain's auc: 0.9939\ttrain's binary_logloss: 0.177529\tvalid's auc: 0.886956\tvalid's binary_logloss: 0.223636\n",
            "[LightGBM] [Info] Number of positive: 526, number of negative: 28425\n",
            "[LightGBM] [Info] Auto-choosing row-wise multi-threading, the overhead of testing was 0.120126 seconds.\n",
            "You can set `force_row_wise=true` to remove the overhead.\n",
            "And if memory is not enough, you can set `force_col_wise=true`.\n",
            "[LightGBM] [Info] Total Bins 3715\n",
            "[LightGBM] [Info] Number of data points in the train set: 28951, number of used features: 989\n",
            "[LightGBM] [Info] [binary:BoostFromScore]: pavg=0.500000 -> initscore=-0.000000\n",
            "[LightGBM] [Info] Start training from score -0.000000\n",
            "Training until validation scores don't improve for 100 rounds\n",
            "Early stopping, best iteration is:\n",
            "[151]\ttrain's auc: 0.999361\ttrain's binary_logloss: 0.11096\tvalid's auc: 0.866915\tvalid's binary_logloss: 0.159688\n",
            "[LightGBM] [Info] Number of positive: 501, number of negative: 28450\n",
            "[LightGBM] [Info] Auto-choosing row-wise multi-threading, the overhead of testing was 0.128921 seconds.\n",
            "You can set `force_row_wise=true` to remove the overhead.\n",
            "And if memory is not enough, you can set `force_col_wise=true`.\n",
            "[LightGBM] [Info] Total Bins 3721\n",
            "[LightGBM] [Info] Number of data points in the train set: 28951, number of used features: 989\n",
            "[LightGBM] [Info] [binary:BoostFromScore]: pavg=0.500000 -> initscore=-0.000000\n",
            "[LightGBM] [Info] Start training from score -0.000000\n",
            "Training until validation scores don't improve for 100 rounds\n",
            "Early stopping, best iteration is:\n",
            "[67]\ttrain's auc: 0.9861\ttrain's binary_logloss: 0.217089\tvalid's auc: 0.874159\tvalid's binary_logloss: 0.260576\n"
          ]
        }
      ]
    },
    {
      "cell_type": "code",
      "source": [
        "# Create a results dataframe (nsmoid, race, labels, predictions)\n",
        "results = pd.concat([nsmo_test_id, nsmo_test_labels], axis=1)\n",
        "results['predictions'] = test_predictions\n",
        "results = pd.merge(results, nsmo_race, on='nsmoid')"
      ],
      "metadata": {
        "id": "OOUYJZ580FSy"
      },
      "id": "OOUYJZ580FSy",
      "execution_count": null,
      "outputs": []
    },
    {
      "cell_type": "code",
      "source": [
        "# Calculate ROC/AUC score for the awareness model\n",
        "roc_aware = roc_auc_score(results['perf_status'], results['predictions'])\n",
        "roc_aware_white = roc_auc_score(results[results['race'] == 'W'][\n",
        "      'perf_status'], results[results['race'] == 'W']['predictions'])\n",
        "roc_aware_black = roc_auc_score(results[results['race'] == 'B'][\n",
        "      'perf_status'], results[results['race'] == 'B']['predictions'])"
      ],
      "metadata": {
        "id": "f06odr-n0Giy"
      },
      "id": "f06odr-n0Giy",
      "execution_count": null,
      "outputs": []
    },
    {
      "cell_type": "code",
      "source": [
        "# Plot most important features\n",
        "fi = pd.DataFrame({'feature': list(features),\n",
        "                   'importance': feature_importance_values})\n",
        "plot_feature_importance(fi)"
      ],
      "metadata": {
        "id": "HgVZWRUAwmk0",
        "colab": {
          "base_uri": "https://localhost:8080/",
          "height": 564
        },
        "outputId": "0e915166-d6f9-4c87-e465-13ca3b119ac1"
      },
      "id": "HgVZWRUAwmk0",
      "execution_count": null,
      "outputs": [
        {
          "output_type": "display_data",
          "data": {
            "text/plain": [
              "<Figure size 1000x600 with 1 Axes>"
            ],
            "image/png": "[encoded data removed]"
          },
          "metadata": {}
        }
      ]
    },
    {
      "cell_type": "code",
      "source": [
        "# List most important features\n",
        "fi.sort_values(by=['importance'], ascending=False)[:15]"
      ],
      "metadata": {
        "id": "qLdaOc3ixlwj",
        "colab": {
          "base_uri": "https://localhost:8080/",
          "height": 520
        },
        "outputId": "286dd525-135f-4b5a-e9cb-41d31da3a549"
      },
      "id": "qLdaOc3ixlwj",
      "execution_count": null,
      "outputs": [
        {
          "output_type": "execute_result",
          "data": {
            "text/plain": [
              "          feature  importance\n",
              "85   score_orig_r       194.4\n",
              "76            ltv       106.0\n",
              "73    rate_spread        93.4\n",
              "86   score_orig_s        88.2\n",
              "74           pmms        84.6\n",
              "39           x74r        83.4\n",
              "79            pti        66.0\n",
              "78            dti        52.0\n",
              "70           x90g        36.2\n",
              "71      open_year        35.2\n",
              "913        x93b.3        22.0\n",
              "1            x20b        21.8\n",
              "77           cltv        21.2\n",
              "868         x83.1        20.2\n",
              "426        x36a.1        19.4"
            ],
            "text/html": [
              "\n",
              "  <div id=\"df-4d21f091-dd7b-480d-b7cf-beca2ff124b1\" class=\"colab-df-container\">\n",
              "    <div>\n",
              "<style scoped>\n",
              "    .dataframe tbody tr th:only-of-type {\n",
              "        vertical-align: middle;\n",
              "    }\n",
              "\n",
              "    .dataframe tbody tr th {\n",
              "        vertical-align: top;\n",
              "    }\n",
              "\n",
              "    .dataframe thead th {\n",
              "        text-align: right;\n",
              "    }\n",
              "</style>\n",
              "<table border=\"1\" class=\"dataframe\">\n",
              "  <thead>\n",
              "    <tr style=\"text-align: right;\">\n",
              "      <th></th>\n",
              "      <th>feature</th>\n",
              "      <th>importance</th>\n",
              "    </tr>\n",
              "  </thead>\n",
              "  <tbody>\n",
              "    <tr>\n",
              "      <th>85</th>\n",
              "      <td>score_orig_r</td>\n",
              "      <td>194.4</td>\n",
              "    </tr>\n",
              "    <tr>\n",
              "      <th>76</th>\n",
              "      <td>ltv</td>\n",
              "      <td>106.0</td>\n",
              "    </tr>\n",
              "    <tr>\n",
              "      <th>73</th>\n",
              "      <td>rate_spread</td>\n",
              "      <td>93.4</td>\n",
              "    </tr>\n",
              "    <tr>\n",
              "      <th>86</th>\n",
              "      <td>score_orig_s</td>\n",
              "      <td>88.2</td>\n",
              "    </tr>\n",
              "    <tr>\n",
              "      <th>74</th>\n",
              "      <td>pmms</td>\n",
              "      <td>84.6</td>\n",
              "    </tr>\n",
              "    <tr>\n",
              "      <th>39</th>\n",
              "      <td>x74r</td>\n",
              "      <td>83.4</td>\n",
              "    </tr>\n",
              "    <tr>\n",
              "      <th>79</th>\n",
              "      <td>pti</td>\n",
              "      <td>66.0</td>\n",
              "    </tr>\n",
              "    <tr>\n",
              "      <th>78</th>\n",
              "      <td>dti</td>\n",
              "      <td>52.0</td>\n",
              "    </tr>\n",
              "    <tr>\n",
              "      <th>70</th>\n",
              "      <td>x90g</td>\n",
              "      <td>36.2</td>\n",
              "    </tr>\n",
              "    <tr>\n",
              "      <th>71</th>\n",
              "      <td>open_year</td>\n",
              "      <td>35.2</td>\n",
              "    </tr>\n",
              "    <tr>\n",
              "      <th>913</th>\n",
              "      <td>x93b.3</td>\n",
              "      <td>22.0</td>\n",
              "    </tr>\n",
              "    <tr>\n",
              "      <th>1</th>\n",
              "      <td>x20b</td>\n",
              "      <td>21.8</td>\n",
              "    </tr>\n",
              "    <tr>\n",
              "      <th>77</th>\n",
              "      <td>cltv</td>\n",
              "      <td>21.2</td>\n",
              "    </tr>\n",
              "    <tr>\n",
              "      <th>868</th>\n",
              "      <td>x83.1</td>\n",
              "      <td>20.2</td>\n",
              "    </tr>\n",
              "    <tr>\n",
              "      <th>426</th>\n",
              "      <td>x36a.1</td>\n",
              "      <td>19.4</td>\n",
              "    </tr>\n",
              "  </tbody>\n",
              "</table>\n",
              "</div>\n",
              "    <div class=\"colab-df-buttons\">\n",
              "\n",
              "  <div class=\"colab-df-container\">\n",
              "    <button class=\"colab-df-convert\" onclick=\"convertToInteractive('df-4d21f091-dd7b-480d-b7cf-beca2ff124b1')\"\n",
              "            title=\"Convert this dataframe to an interactive table.\"\n",
              "            style=\"display:none;\">\n",
              "\n",
              "  <svg xmlns=\"http://www.w3.org/2000/svg\" height=\"24px\" viewBox=\"0 -960 960 960\">\n",
              "    <path d=\"M120-120v-720h720v720H120Zm60-500h600v-160H180v160Zm220 220h160v-160H400v160Zm0 220h160v-160H400v160ZM180-400h160v-160H180v160Zm440 0h160v-160H620v160ZM180-180h160v-160H180v160Zm440 0h160v-160H620v160Z\"/>\n",
              "  </svg>\n",
              "    </button>\n",
              "\n",
              "  <style>\n",
              "    .colab-df-container {\n",
              "      display:flex;\n",
              "      gap: 12px;\n",
              "    }\n",
              "\n",
              "    .colab-df-convert {\n",
              "      background-color: #E8F0FE;\n",
              "      border: none;\n",
              "      border-radius: 50%;\n",
              "      cursor: pointer;\n",
              "      display: none;\n",
              "      fill: #1967D2;\n",
              "      height: 32px;\n",
              "      padding: 0 0 0 0;\n",
              "      width: 32px;\n",
              "    }\n",
              "\n",
              "    .colab-df-convert:hover {\n",
              "      background-color: #E2EBFA;\n",
              "      box-shadow: 0px 1px 2px rgba(60, 64, 67, 0.3), 0px 1px 3px 1px rgba(60, 64, 67, 0.15);\n",
              "      fill: #174EA6;\n",
              "    }\n",
              "\n",
              "    .colab-df-buttons div {\n",
              "      margin-bottom: 4px;\n",
              "    }\n",
              "\n",
              "    [theme=dark] .colab-df-convert {\n",
              "      background-color: #3B4455;\n",
              "      fill: #D2E3FC;\n",
              "    }\n",
              "\n",
              "    [theme=dark] .colab-df-convert:hover {\n",
              "      background-color: #434B5C;\n",
              "      box-shadow: 0px 1px 3px 1px rgba(0, 0, 0, 0.15);\n",
              "      filter: drop-shadow(0px 1px 2px rgba(0, 0, 0, 0.3));\n",
              "      fill: #FFFFFF;\n",
              "    }\n",
              "  </style>\n",
              "\n",
              "    <script>\n",
              "      const buttonEl =\n",
              "        document.querySelector('#df-4d21f091-dd7b-480d-b7cf-beca2ff124b1 button.colab-df-convert');\n",
              "      buttonEl.style.display =\n",
              "        google.colab.kernel.accessAllowed ? 'block' : 'none';\n",
              "\n",
              "      async function convertToInteractive(key) {\n",
              "        const element = document.querySelector('#df-4d21f091-dd7b-480d-b7cf-beca2ff124b1');\n",
              "        const dataTable =\n",
              "          await google.colab.kernel.invokeFunction('convertToInteractive',\n",
              "                                                    [key], {});\n",
              "        if (!dataTable) return;\n",
              "\n",
              "        const docLinkHtml = 'Like what you see? Visit the ' +\n",
              "          '<a target=\"_blank\" href=https://colab.research.google.com/notebooks/data_table.ipynb>data table notebook</a>'\n",
              "          + ' to learn more about interactive tables.';\n",
              "        element.innerHTML = '';\n",
              "        dataTable['output_type'] = 'display_data';\n",
              "        await google.colab.output.renderOutput(dataTable, element);\n",
              "        const docLink = document.createElement('div');\n",
              "        docLink.innerHTML = docLinkHtml;\n",
              "        element.appendChild(docLink);\n",
              "      }\n",
              "    </script>\n",
              "  </div>\n",
              "\n",
              "\n",
              "<div id=\"df-4f576e52-fe95-4c13-83d4-73179b9bf8a4\">\n",
              "  <button class=\"colab-df-quickchart\" onclick=\"quickchart('df-4f576e52-fe95-4c13-83d4-73179b9bf8a4')\"\n",
              "            title=\"Suggest charts\"\n",
              "            style=\"display:none;\">\n",
              "\n",
              "<svg xmlns=\"http://www.w3.org/2000/svg\" height=\"24px\"viewBox=\"0 0 24 24\"\n",
              "     width=\"24px\">\n",
              "    <g>\n",
              "        <path d=\"M19 3H5c-1.1 0-2 .9-2 2v14c0 1.1.9 2 2 2h14c1.1 0 2-.9 2-2V5c0-1.1-.9-2-2-2zM9 17H7v-7h2v7zm4 0h-2V7h2v10zm4 0h-2v-4h2v4z\"/>\n",
              "    </g>\n",
              "</svg>\n",
              "  </button>\n",
              "\n",
              "<style>\n",
              "  .colab-df-quickchart {\n",
              "      --bg-color: #E8F0FE;\n",
              "      --fill-color: #1967D2;\n",
              "      --hover-bg-color: #E2EBFA;\n",
              "      --hover-fill-color: #174EA6;\n",
              "      --disabled-fill-color: #AAA;\n",
              "      --disabled-bg-color: #DDD;\n",
              "  }\n",
              "\n",
              "  [theme=dark] .colab-df-quickchart {\n",
              "      --bg-color: #3B4455;\n",
              "      --fill-color: #D2E3FC;\n",
              "      --hover-bg-color: #434B5C;\n",
              "      --hover-fill-color: #FFFFFF;\n",
              "      --disabled-bg-color: #3B4455;\n",
              "      --disabled-fill-color: #666;\n",
              "  }\n",
              "\n",
              "  .colab-df-quickchart {\n",
              "    background-color: var(--bg-color);\n",
              "    border: none;\n",
              "    border-radius: 50%;\n",
              "    cursor: pointer;\n",
              "    display: none;\n",
              "    fill: var(--fill-color);\n",
              "    height: 32px;\n",
              "    padding: 0;\n",
              "    width: 32px;\n",
              "  }\n",
              "\n",
              "  .colab-df-quickchart:hover {\n",
              "    background-color: var(--hover-bg-color);\n",
              "    box-shadow: 0 1px 2px rgba(60, 64, 67, 0.3), 0 1px 3px 1px rgba(60, 64, 67, 0.15);\n",
              "    fill: var(--button-hover-fill-color);\n",
              "  }\n",
              "\n",
              "  .colab-df-quickchart-complete:disabled,\n",
              "  .colab-df-quickchart-complete:disabled:hover {\n",
              "    background-color: var(--disabled-bg-color);\n",
              "    fill: var(--disabled-fill-color);\n",
              "    box-shadow: none;\n",
              "  }\n",
              "\n",
              "  .colab-df-spinner {\n",
              "    border: 2px solid var(--fill-color);\n",
              "    border-color: transparent;\n",
              "    border-bottom-color: var(--fill-color);\n",
              "    animation:\n",
              "      spin 1s steps(1) infinite;\n",
              "  }\n",
              "\n",
              "  @keyframes spin {\n",
              "    0% {\n",
              "      border-color: transparent;\n",
              "      border-bottom-color: var(--fill-color);\n",
              "      border-left-color: var(--fill-color);\n",
              "    }\n",
              "    20% {\n",
              "      border-color: transparent;\n",
              "      border-left-color: var(--fill-color);\n",
              "      border-top-color: var(--fill-color);\n",
              "    }\n",
              "    30% {\n",
              "      border-color: transparent;\n",
              "      border-left-color: var(--fill-color);\n",
              "      border-top-color: var(--fill-color);\n",
              "      border-right-color: var(--fill-color);\n",
              "    }\n",
              "    40% {\n",
              "      border-color: transparent;\n",
              "      border-right-color: var(--fill-color);\n",
              "      border-top-color: var(--fill-color);\n",
              "    }\n",
              "    60% {\n",
              "      border-color: transparent;\n",
              "      border-right-color: var(--fill-color);\n",
              "    }\n",
              "    80% {\n",
              "      border-color: transparent;\n",
              "      border-right-color: var(--fill-color);\n",
              "      border-bottom-color: var(--fill-color);\n",
              "    }\n",
              "    90% {\n",
              "      border-color: transparent;\n",
              "      border-bottom-color: var(--fill-color);\n",
              "    }\n",
              "  }\n",
              "</style>\n",
              "\n",
              "  <script>\n",
              "    async function quickchart(key) {\n",
              "      const quickchartButtonEl =\n",
              "        document.querySelector('#' + key + ' button');\n",
              "      quickchartButtonEl.disabled = true;  // To prevent multiple clicks.\n",
              "      quickchartButtonEl.classList.add('colab-df-spinner');\n",
              "      try {\n",
              "        const charts = await google.colab.kernel.invokeFunction(\n",
              "            'suggestCharts', [key], {});\n",
              "      } catch (error) {\n",
              "        console.error('Error during call to suggestCharts:', error);\n",
              "      }\n",
              "      quickchartButtonEl.classList.remove('colab-df-spinner');\n",
              "      quickchartButtonEl.classList.add('colab-df-quickchart-complete');\n",
              "    }\n",
              "    (() => {\n",
              "      let quickchartButtonEl =\n",
              "        document.querySelector('#df-4f576e52-fe95-4c13-83d4-73179b9bf8a4 button');\n",
              "      quickchartButtonEl.style.display =\n",
              "        google.colab.kernel.accessAllowed ? 'block' : 'none';\n",
              "    })();\n",
              "  </script>\n",
              "</div>\n",
              "    </div>\n",
              "  </div>\n"
            ]
          },
          "metadata": {},
          "execution_count": 38
        }
      ]
    },
    {
      "cell_type": "code",
      "source": [
        "# List feature importances associated with race\n",
        "fi[fi['feature'].str.startswith('race')]"
      ],
      "metadata": {
        "id": "QixWgq46xqoq",
        "colab": {
          "base_uri": "https://localhost:8080/",
          "height": 206
        },
        "outputId": "0ae91215-dd85-4d17-c6c8-bdb554e40ec3"
      },
      "id": "QixWgq46xqoq",
      "execution_count": null,
      "outputs": [
        {
          "output_type": "execute_result",
          "data": {
            "text/plain": [
              "   feature  importance\n",
              "90  race.A         4.6\n",
              "91  race.B         8.8\n",
              "92  race.H         2.0\n",
              "93  race.O         1.2\n",
              "94  race.W         2.6"
            ],
            "text/html": [
              "\n",
              "  <div id=\"df-92078f7f-85b8-4830-952f-b01f245008d8\" class=\"colab-df-container\">\n",
              "    <div>\n",
              "<style scoped>\n",
              "    .dataframe tbody tr th:only-of-type {\n",
              "        vertical-align: middle;\n",
              "    }\n",
              "\n",
              "    .dataframe tbody tr th {\n",
              "        vertical-align: top;\n",
              "    }\n",
              "\n",
              "    .dataframe thead th {\n",
              "        text-align: right;\n",
              "    }\n",
              "</style>\n",
              "<table border=\"1\" class=\"dataframe\">\n",
              "  <thead>\n",
              "    <tr style=\"text-align: right;\">\n",
              "      <th></th>\n",
              "      <th>feature</th>\n",
              "      <th>importance</th>\n",
              "    </tr>\n",
              "  </thead>\n",
              "  <tbody>\n",
              "    <tr>\n",
              "      <th>90</th>\n",
              "      <td>race.A</td>\n",
              "      <td>4.6</td>\n",
              "    </tr>\n",
              "    <tr>\n",
              "      <th>91</th>\n",
              "      <td>race.B</td>\n",
              "      <td>8.8</td>\n",
              "    </tr>\n",
              "    <tr>\n",
              "      <th>92</th>\n",
              "      <td>race.H</td>\n",
              "      <td>2.0</td>\n",
              "    </tr>\n",
              "    <tr>\n",
              "      <th>93</th>\n",
              "      <td>race.O</td>\n",
              "      <td>1.2</td>\n",
              "    </tr>\n",
              "    <tr>\n",
              "      <th>94</th>\n",
              "      <td>race.W</td>\n",
              "      <td>2.6</td>\n",
              "    </tr>\n",
              "  </tbody>\n",
              "</table>\n",
              "</div>\n",
              "    <div class=\"colab-df-buttons\">\n",
              "\n",
              "  <div class=\"colab-df-container\">\n",
              "    <button class=\"colab-df-convert\" onclick=\"convertToInteractive('df-92078f7f-85b8-4830-952f-b01f245008d8')\"\n",
              "            title=\"Convert this dataframe to an interactive table.\"\n",
              "            style=\"display:none;\">\n",
              "\n",
              "  <svg xmlns=\"http://www.w3.org/2000/svg\" height=\"24px\" viewBox=\"0 -960 960 960\">\n",
              "    <path d=\"M120-120v-720h720v720H120Zm60-500h600v-160H180v160Zm220 220h160v-160H400v160Zm0 220h160v-160H400v160ZM180-400h160v-160H180v160Zm440 0h160v-160H620v160ZM180-180h160v-160H180v160Zm440 0h160v-160H620v160Z\"/>\n",
              "  </svg>\n",
              "    </button>\n",
              "\n",
              "  <style>\n",
              "    .colab-df-container {\n",
              "      display:flex;\n",
              "      gap: 12px;\n",
              "    }\n",
              "\n",
              "    .colab-df-convert {\n",
              "      background-color: #E8F0FE;\n",
              "      border: none;\n",
              "      border-radius: 50%;\n",
              "      cursor: pointer;\n",
              "      display: none;\n",
              "      fill: #1967D2;\n",
              "      height: 32px;\n",
              "      padding: 0 0 0 0;\n",
              "      width: 32px;\n",
              "    }\n",
              "\n",
              "    .colab-df-convert:hover {\n",
              "      background-color: #E2EBFA;\n",
              "      box-shadow: 0px 1px 2px rgba(60, 64, 67, 0.3), 0px 1px 3px 1px rgba(60, 64, 67, 0.15);\n",
              "      fill: #174EA6;\n",
              "    }\n",
              "\n",
              "    .colab-df-buttons div {\n",
              "      margin-bottom: 4px;\n",
              "    }\n",
              "\n",
              "    [theme=dark] .colab-df-convert {\n",
              "      background-color: #3B4455;\n",
              "      fill: #D2E3FC;\n",
              "    }\n",
              "\n",
              "    [theme=dark] .colab-df-convert:hover {\n",
              "      background-color: #434B5C;\n",
              "      box-shadow: 0px 1px 3px 1px rgba(0, 0, 0, 0.15);\n",
              "      filter: drop-shadow(0px 1px 2px rgba(0, 0, 0, 0.3));\n",
              "      fill: #FFFFFF;\n",
              "    }\n",
              "  </style>\n",
              "\n",
              "    <script>\n",
              "      const buttonEl =\n",
              "        document.querySelector('#df-92078f7f-85b8-4830-952f-b01f245008d8 button.colab-df-convert');\n",
              "      buttonEl.style.display =\n",
              "        google.colab.kernel.accessAllowed ? 'block' : 'none';\n",
              "\n",
              "      async function convertToInteractive(key) {\n",
              "        const element = document.querySelector('#df-92078f7f-85b8-4830-952f-b01f245008d8');\n",
              "        const dataTable =\n",
              "          await google.colab.kernel.invokeFunction('convertToInteractive',\n",
              "                                                    [key], {});\n",
              "        if (!dataTable) return;\n",
              "\n",
              "        const docLinkHtml = 'Like what you see? Visit the ' +\n",
              "          '<a target=\"_blank\" href=https://colab.research.google.com/notebooks/data_table.ipynb>data table notebook</a>'\n",
              "          + ' to learn more about interactive tables.';\n",
              "        element.innerHTML = '';\n",
              "        dataTable['output_type'] = 'display_data';\n",
              "        await google.colab.output.renderOutput(dataTable, element);\n",
              "        const docLink = document.createElement('div');\n",
              "        docLink.innerHTML = docLinkHtml;\n",
              "        element.appendChild(docLink);\n",
              "      }\n",
              "    </script>\n",
              "  </div>\n",
              "\n",
              "\n",
              "<div id=\"df-ea08e9b2-1a8b-44a0-b55e-a8a999e41c51\">\n",
              "  <button class=\"colab-df-quickchart\" onclick=\"quickchart('df-ea08e9b2-1a8b-44a0-b55e-a8a999e41c51')\"\n",
              "            title=\"Suggest charts\"\n",
              "            style=\"display:none;\">\n",
              "\n",
              "<svg xmlns=\"http://www.w3.org/2000/svg\" height=\"24px\"viewBox=\"0 0 24 24\"\n",
              "     width=\"24px\">\n",
              "    <g>\n",
              "        <path d=\"M19 3H5c-1.1 0-2 .9-2 2v14c0 1.1.9 2 2 2h14c1.1 0 2-.9 2-2V5c0-1.1-.9-2-2-2zM9 17H7v-7h2v7zm4 0h-2V7h2v10zm4 0h-2v-4h2v4z\"/>\n",
              "    </g>\n",
              "</svg>\n",
              "  </button>\n",
              "\n",
              "<style>\n",
              "  .colab-df-quickchart {\n",
              "      --bg-color: #E8F0FE;\n",
              "      --fill-color: #1967D2;\n",
              "      --hover-bg-color: #E2EBFA;\n",
              "      --hover-fill-color: #174EA6;\n",
              "      --disabled-fill-color: #AAA;\n",
              "      --disabled-bg-color: #DDD;\n",
              "  }\n",
              "\n",
              "  [theme=dark] .colab-df-quickchart {\n",
              "      --bg-color: #3B4455;\n",
              "      --fill-color: #D2E3FC;\n",
              "      --hover-bg-color: #434B5C;\n",
              "      --hover-fill-color: #FFFFFF;\n",
              "      --disabled-bg-color: #3B4455;\n",
              "      --disabled-fill-color: #666;\n",
              "  }\n",
              "\n",
              "  .colab-df-quickchart {\n",
              "    background-color: var(--bg-color);\n",
              "    border: none;\n",
              "    border-radius: 50%;\n",
              "    cursor: pointer;\n",
              "    display: none;\n",
              "    fill: var(--fill-color);\n",
              "    height: 32px;\n",
              "    padding: 0;\n",
              "    width: 32px;\n",
              "  }\n",
              "\n",
              "  .colab-df-quickchart:hover {\n",
              "    background-color: var(--hover-bg-color);\n",
              "    box-shadow: 0 1px 2px rgba(60, 64, 67, 0.3), 0 1px 3px 1px rgba(60, 64, 67, 0.15);\n",
              "    fill: var(--button-hover-fill-color);\n",
              "  }\n",
              "\n",
              "  .colab-df-quickchart-complete:disabled,\n",
              "  .colab-df-quickchart-complete:disabled:hover {\n",
              "    background-color: var(--disabled-bg-color);\n",
              "    fill: var(--disabled-fill-color);\n",
              "    box-shadow: none;\n",
              "  }\n",
              "\n",
              "  .colab-df-spinner {\n",
              "    border: 2px solid var(--fill-color);\n",
              "    border-color: transparent;\n",
              "    border-bottom-color: var(--fill-color);\n",
              "    animation:\n",
              "      spin 1s steps(1) infinite;\n",
              "  }\n",
              "\n",
              "  @keyframes spin {\n",
              "    0% {\n",
              "      border-color: transparent;\n",
              "      border-bottom-color: var(--fill-color);\n",
              "      border-left-color: var(--fill-color);\n",
              "    }\n",
              "    20% {\n",
              "      border-color: transparent;\n",
              "      border-left-color: var(--fill-color);\n",
              "      border-top-color: var(--fill-color);\n",
              "    }\n",
              "    30% {\n",
              "      border-color: transparent;\n",
              "      border-left-color: var(--fill-color);\n",
              "      border-top-color: var(--fill-color);\n",
              "      border-right-color: var(--fill-color);\n",
              "    }\n",
              "    40% {\n",
              "      border-color: transparent;\n",
              "      border-right-color: var(--fill-color);\n",
              "      border-top-color: var(--fill-color);\n",
              "    }\n",
              "    60% {\n",
              "      border-color: transparent;\n",
              "      border-right-color: var(--fill-color);\n",
              "    }\n",
              "    80% {\n",
              "      border-color: transparent;\n",
              "      border-right-color: var(--fill-color);\n",
              "      border-bottom-color: var(--fill-color);\n",
              "    }\n",
              "    90% {\n",
              "      border-color: transparent;\n",
              "      border-bottom-color: var(--fill-color);\n",
              "    }\n",
              "  }\n",
              "</style>\n",
              "\n",
              "  <script>\n",
              "    async function quickchart(key) {\n",
              "      const quickchartButtonEl =\n",
              "        document.querySelector('#' + key + ' button');\n",
              "      quickchartButtonEl.disabled = true;  // To prevent multiple clicks.\n",
              "      quickchartButtonEl.classList.add('colab-df-spinner');\n",
              "      try {\n",
              "        const charts = await google.colab.kernel.invokeFunction(\n",
              "            'suggestCharts', [key], {});\n",
              "      } catch (error) {\n",
              "        console.error('Error during call to suggestCharts:', error);\n",
              "      }\n",
              "      quickchartButtonEl.classList.remove('colab-df-spinner');\n",
              "      quickchartButtonEl.classList.add('colab-df-quickchart-complete');\n",
              "    }\n",
              "    (() => {\n",
              "      let quickchartButtonEl =\n",
              "        document.querySelector('#df-ea08e9b2-1a8b-44a0-b55e-a8a999e41c51 button');\n",
              "      quickchartButtonEl.style.display =\n",
              "        google.colab.kernel.accessAllowed ? 'block' : 'none';\n",
              "    })();\n",
              "  </script>\n",
              "</div>\n",
              "    </div>\n",
              "  </div>\n"
            ]
          },
          "metadata": {},
          "execution_count": 39
        }
      ]
    },
    {
      "cell_type": "code",
      "source": [
        "# Merge correlation with feature importance\n",
        "feat_corr = pd.merge(fi, corr['race.B'].to_frame().reset_index().rename(columns=\n",
        "  {'index': 'feature', 'race.B': 'corr_race.B'}), on='feature')"
      ],
      "metadata": {
        "id": "gkkA92pOK1lr"
      },
      "id": "gkkA92pOK1lr",
      "execution_count": null,
      "outputs": []
    },
    {
      "cell_type": "code",
      "source": [
        "# List 10 most negatively correlated features with Black\n",
        "feat_corr.sort_values(by='corr_race.B').head(10)"
      ],
      "metadata": {
        "colab": {
          "base_uri": "https://localhost:8080/",
          "height": 363
        },
        "id": "Com0KRCwaX65",
        "outputId": "c56dbcad-5c8b-4b46-aef6-9c4a50b016c8"
      },
      "id": "Com0KRCwaX65",
      "execution_count": null,
      "outputs": [
        {
          "output_type": "execute_result",
          "data": {
            "text/plain": [
              "          feature  importance  corr_race.B\n",
              "94         race.W         2.6    -0.478951\n",
              "971   loan_type.1         6.8    -0.153877\n",
              "86   score_orig_s        88.2    -0.114965\n",
              "370       x30a.-2         0.0    -0.108957\n",
              "386        x31.-2         0.0    -0.108957\n",
              "376       x30c.-2         0.0    -0.108957\n",
              "379       x30d.-2         0.0    -0.108957\n",
              "391        x32.-2         0.0    -0.108957\n",
              "373       x30b.-2         0.0    -0.108957\n",
              "23            x29         0.6    -0.108957"
            ],
            "text/html": [
              "\n",
              "  <div id=\"df-91780647-53ec-4318-8b44-e11645ad4e84\" class=\"colab-df-container\">\n",
              "    <div>\n",
              "<style scoped>\n",
              "    .dataframe tbody tr th:only-of-type {\n",
              "        vertical-align: middle;\n",
              "    }\n",
              "\n",
              "    .dataframe tbody tr th {\n",
              "        vertical-align: top;\n",
              "    }\n",
              "\n",
              "    .dataframe thead th {\n",
              "        text-align: right;\n",
              "    }\n",
              "</style>\n",
              "<table border=\"1\" class=\"dataframe\">\n",
              "  <thead>\n",
              "    <tr style=\"text-align: right;\">\n",
              "      <th></th>\n",
              "      <th>feature</th>\n",
              "      <th>importance</th>\n",
              "      <th>corr_race.B</th>\n",
              "    </tr>\n",
              "  </thead>\n",
              "  <tbody>\n",
              "    <tr>\n",
              "      <th>94</th>\n",
              "      <td>race.W</td>\n",
              "      <td>2.6</td>\n",
              "      <td>-0.478951</td>\n",
              "    </tr>\n",
              "    <tr>\n",
              "      <th>971</th>\n",
              "      <td>loan_type.1</td>\n",
              "      <td>6.8</td>\n",
              "      <td>-0.153877</td>\n",
              "    </tr>\n",
              "    <tr>\n",
              "      <th>86</th>\n",
              "      <td>score_orig_s</td>\n",
              "      <td>88.2</td>\n",
              "      <td>-0.114965</td>\n",
              "    </tr>\n",
              "    <tr>\n",
              "      <th>370</th>\n",
              "      <td>x30a.-2</td>\n",
              "      <td>0.0</td>\n",
              "      <td>-0.108957</td>\n",
              "    </tr>\n",
              "    <tr>\n",
              "      <th>386</th>\n",
              "      <td>x31.-2</td>\n",
              "      <td>0.0</td>\n",
              "      <td>-0.108957</td>\n",
              "    </tr>\n",
              "    <tr>\n",
              "      <th>376</th>\n",
              "      <td>x30c.-2</td>\n",
              "      <td>0.0</td>\n",
              "      <td>-0.108957</td>\n",
              "    </tr>\n",
              "    <tr>\n",
              "      <th>379</th>\n",
              "      <td>x30d.-2</td>\n",
              "      <td>0.0</td>\n",
              "      <td>-0.108957</td>\n",
              "    </tr>\n",
              "    <tr>\n",
              "      <th>391</th>\n",
              "      <td>x32.-2</td>\n",
              "      <td>0.0</td>\n",
              "      <td>-0.108957</td>\n",
              "    </tr>\n",
              "    <tr>\n",
              "      <th>373</th>\n",
              "      <td>x30b.-2</td>\n",
              "      <td>0.0</td>\n",
              "      <td>-0.108957</td>\n",
              "    </tr>\n",
              "    <tr>\n",
              "      <th>23</th>\n",
              "      <td>x29</td>\n",
              "      <td>0.6</td>\n",
              "      <td>-0.108957</td>\n",
              "    </tr>\n",
              "  </tbody>\n",
              "</table>\n",
              "</div>\n",
              "    <div class=\"colab-df-buttons\">\n",
              "\n",
              "  <div class=\"colab-df-container\">\n",
              "    <button class=\"colab-df-convert\" onclick=\"convertToInteractive('df-91780647-53ec-4318-8b44-e11645ad4e84')\"\n",
              "            title=\"Convert this dataframe to an interactive table.\"\n",
              "            style=\"display:none;\">\n",
              "\n",
              "  <svg xmlns=\"http://www.w3.org/2000/svg\" height=\"24px\" viewBox=\"0 -960 960 960\">\n",
              "    <path d=\"M120-120v-720h720v720H120Zm60-500h600v-160H180v160Zm220 220h160v-160H400v160Zm0 220h160v-160H400v160ZM180-400h160v-160H180v160Zm440 0h160v-160H620v160ZM180-180h160v-160H180v160Zm440 0h160v-160H620v160Z\"/>\n",
              "  </svg>\n",
              "    </button>\n",
              "\n",
              "  <style>\n",
              "    .colab-df-container {\n",
              "      display:flex;\n",
              "      gap: 12px;\n",
              "    }\n",
              "\n",
              "    .colab-df-convert {\n",
              "      background-color: #E8F0FE;\n",
              "      border: none;\n",
              "      border-radius: 50%;\n",
              "      cursor: pointer;\n",
              "      display: none;\n",
              "      fill: #1967D2;\n",
              "      height: 32px;\n",
              "      padding: 0 0 0 0;\n",
              "      width: 32px;\n",
              "    }\n",
              "\n",
              "    .colab-df-convert:hover {\n",
              "      background-color: #E2EBFA;\n",
              "      box-shadow: 0px 1px 2px rgba(60, 64, 67, 0.3), 0px 1px 3px 1px rgba(60, 64, 67, 0.15);\n",
              "      fill: #174EA6;\n",
              "    }\n",
              "\n",
              "    .colab-df-buttons div {\n",
              "      margin-bottom: 4px;\n",
              "    }\n",
              "\n",
              "    [theme=dark] .colab-df-convert {\n",
              "      background-color: #3B4455;\n",
              "      fill: #D2E3FC;\n",
              "    }\n",
              "\n",
              "    [theme=dark] .colab-df-convert:hover {\n",
              "      background-color: #434B5C;\n",
              "      box-shadow: 0px 1px 3px 1px rgba(0, 0, 0, 0.15);\n",
              "      filter: drop-shadow(0px 1px 2px rgba(0, 0, 0, 0.3));\n",
              "      fill: #FFFFFF;\n",
              "    }\n",
              "  </style>\n",
              "\n",
              "    <script>\n",
              "      const buttonEl =\n",
              "        document.querySelector('#df-91780647-53ec-4318-8b44-e11645ad4e84 button.colab-df-convert');\n",
              "      buttonEl.style.display =\n",
              "        google.colab.kernel.accessAllowed ? 'block' : 'none';\n",
              "\n",
              "      async function convertToInteractive(key) {\n",
              "        const element = document.querySelector('#df-91780647-53ec-4318-8b44-e11645ad4e84');\n",
              "        const dataTable =\n",
              "          await google.colab.kernel.invokeFunction('convertToInteractive',\n",
              "                                                    [key], {});\n",
              "        if (!dataTable) return;\n",
              "\n",
              "        const docLinkHtml = 'Like what you see? Visit the ' +\n",
              "          '<a target=\"_blank\" href=https://colab.research.google.com/notebooks/data_table.ipynb>data table notebook</a>'\n",
              "          + ' to learn more about interactive tables.';\n",
              "        element.innerHTML = '';\n",
              "        dataTable['output_type'] = 'display_data';\n",
              "        await google.colab.output.renderOutput(dataTable, element);\n",
              "        const docLink = document.createElement('div');\n",
              "        docLink.innerHTML = docLinkHtml;\n",
              "        element.appendChild(docLink);\n",
              "      }\n",
              "    </script>\n",
              "  </div>\n",
              "\n",
              "\n",
              "<div id=\"df-cbf36927-e192-4039-bc06-49cb79b428d6\">\n",
              "  <button class=\"colab-df-quickchart\" onclick=\"quickchart('df-cbf36927-e192-4039-bc06-49cb79b428d6')\"\n",
              "            title=\"Suggest charts\"\n",
              "            style=\"display:none;\">\n",
              "\n",
              "<svg xmlns=\"http://www.w3.org/2000/svg\" height=\"24px\"viewBox=\"0 0 24 24\"\n",
              "     width=\"24px\">\n",
              "    <g>\n",
              "        <path d=\"M19 3H5c-1.1 0-2 .9-2 2v14c0 1.1.9 2 2 2h14c1.1 0 2-.9 2-2V5c0-1.1-.9-2-2-2zM9 17H7v-7h2v7zm4 0h-2V7h2v10zm4 0h-2v-4h2v4z\"/>\n",
              "    </g>\n",
              "</svg>\n",
              "  </button>\n",
              "\n",
              "<style>\n",
              "  .colab-df-quickchart {\n",
              "      --bg-color: #E8F0FE;\n",
              "      --fill-color: #1967D2;\n",
              "      --hover-bg-color: #E2EBFA;\n",
              "      --hover-fill-color: #174EA6;\n",
              "      --disabled-fill-color: #AAA;\n",
              "      --disabled-bg-color: #DDD;\n",
              "  }\n",
              "\n",
              "  [theme=dark] .colab-df-quickchart {\n",
              "      --bg-color: #3B4455;\n",
              "      --fill-color: #D2E3FC;\n",
              "      --hover-bg-color: #434B5C;\n",
              "      --hover-fill-color: #FFFFFF;\n",
              "      --disabled-bg-color: #3B4455;\n",
              "      --disabled-fill-color: #666;\n",
              "  }\n",
              "\n",
              "  .colab-df-quickchart {\n",
              "    background-color: var(--bg-color);\n",
              "    border: none;\n",
              "    border-radius: 50%;\n",
              "    cursor: pointer;\n",
              "    display: none;\n",
              "    fill: var(--fill-color);\n",
              "    height: 32px;\n",
              "    padding: 0;\n",
              "    width: 32px;\n",
              "  }\n",
              "\n",
              "  .colab-df-quickchart:hover {\n",
              "    background-color: var(--hover-bg-color);\n",
              "    box-shadow: 0 1px 2px rgba(60, 64, 67, 0.3), 0 1px 3px 1px rgba(60, 64, 67, 0.15);\n",
              "    fill: var(--button-hover-fill-color);\n",
              "  }\n",
              "\n",
              "  .colab-df-quickchart-complete:disabled,\n",
              "  .colab-df-quickchart-complete:disabled:hover {\n",
              "    background-color: var(--disabled-bg-color);\n",
              "    fill: var(--disabled-fill-color);\n",
              "    box-shadow: none;\n",
              "  }\n",
              "\n",
              "  .colab-df-spinner {\n",
              "    border: 2px solid var(--fill-color);\n",
              "    border-color: transparent;\n",
              "    border-bottom-color: var(--fill-color);\n",
              "    animation:\n",
              "      spin 1s steps(1) infinite;\n",
              "  }\n",
              "\n",
              "  @keyframes spin {\n",
              "    0% {\n",
              "      border-color: transparent;\n",
              "      border-bottom-color: var(--fill-color);\n",
              "      border-left-color: var(--fill-color);\n",
              "    }\n",
              "    20% {\n",
              "      border-color: transparent;\n",
              "      border-left-color: var(--fill-color);\n",
              "      border-top-color: var(--fill-color);\n",
              "    }\n",
              "    30% {\n",
              "      border-color: transparent;\n",
              "      border-left-color: var(--fill-color);\n",
              "      border-top-color: var(--fill-color);\n",
              "      border-right-color: var(--fill-color);\n",
              "    }\n",
              "    40% {\n",
              "      border-color: transparent;\n",
              "      border-right-color: var(--fill-color);\n",
              "      border-top-color: var(--fill-color);\n",
              "    }\n",
              "    60% {\n",
              "      border-color: transparent;\n",
              "      border-right-color: var(--fill-color);\n",
              "    }\n",
              "    80% {\n",
              "      border-color: transparent;\n",
              "      border-right-color: var(--fill-color);\n",
              "      border-bottom-color: var(--fill-color);\n",
              "    }\n",
              "    90% {\n",
              "      border-color: transparent;\n",
              "      border-bottom-color: var(--fill-color);\n",
              "    }\n",
              "  }\n",
              "</style>\n",
              "\n",
              "  <script>\n",
              "    async function quickchart(key) {\n",
              "      const quickchartButtonEl =\n",
              "        document.querySelector('#' + key + ' button');\n",
              "      quickchartButtonEl.disabled = true;  // To prevent multiple clicks.\n",
              "      quickchartButtonEl.classList.add('colab-df-spinner');\n",
              "      try {\n",
              "        const charts = await google.colab.kernel.invokeFunction(\n",
              "            'suggestCharts', [key], {});\n",
              "      } catch (error) {\n",
              "        console.error('Error during call to suggestCharts:', error);\n",
              "      }\n",
              "      quickchartButtonEl.classList.remove('colab-df-spinner');\n",
              "      quickchartButtonEl.classList.add('colab-df-quickchart-complete');\n",
              "    }\n",
              "    (() => {\n",
              "      let quickchartButtonEl =\n",
              "        document.querySelector('#df-cbf36927-e192-4039-bc06-49cb79b428d6 button');\n",
              "      quickchartButtonEl.style.display =\n",
              "        google.colab.kernel.accessAllowed ? 'block' : 'none';\n",
              "    })();\n",
              "  </script>\n",
              "</div>\n",
              "    </div>\n",
              "  </div>\n"
            ]
          },
          "metadata": {},
          "execution_count": 41
        }
      ]
    },
    {
      "cell_type": "code",
      "source": [
        "# List 10 most positively correlated features with Black\n",
        "feat_corr.sort_values(by='corr_race.B', ascending=False).head(10)"
      ],
      "metadata": {
        "colab": {
          "base_uri": "https://localhost:8080/",
          "height": 363
        },
        "id": "PBqwcB-HavOa",
        "outputId": "7650b5cb-e2d0-4baa-d2f9-9d1c9b31db6e"
      },
      "id": "PBqwcB-HavOa",
      "execution_count": null,
      "outputs": [
        {
          "output_type": "execute_result",
          "data": {
            "text/plain": [
              "             feature  importance  corr_race.B\n",
              "91            race.B         8.8     1.000000\n",
              "392            x32.1        12.0     0.124292\n",
              "972      loan_type.2         4.8     0.120612\n",
              "76               ltv       106.0     0.112584\n",
              "77              cltv        21.2     0.110489\n",
              "999  first_mort_s.-2         0.0     0.107247\n",
              "374           x30b.1         0.4     0.105446\n",
              "980      metro_lmi.2         1.6     0.103448\n",
              "116            x06.1         7.2     0.102123\n",
              "975           gse.-2         7.6     0.100339"
            ],
            "text/html": [
              "\n",
              "  <div id=\"df-cecc0762-5fd8-4de9-9f40-de812c4602ef\" class=\"colab-df-container\">\n",
              "    <div>\n",
              "<style scoped>\n",
              "    .dataframe tbody tr th:only-of-type {\n",
              "        vertical-align: middle;\n",
              "    }\n",
              "\n",
              "    .dataframe tbody tr th {\n",
              "        vertical-align: top;\n",
              "    }\n",
              "\n",
              "    .dataframe thead th {\n",
              "        text-align: right;\n",
              "    }\n",
              "</style>\n",
              "<table border=\"1\" class=\"dataframe\">\n",
              "  <thead>\n",
              "    <tr style=\"text-align: right;\">\n",
              "      <th></th>\n",
              "      <th>feature</th>\n",
              "      <th>importance</th>\n",
              "      <th>corr_race.B</th>\n",
              "    </tr>\n",
              "  </thead>\n",
              "  <tbody>\n",
              "    <tr>\n",
              "      <th>91</th>\n",
              "      <td>race.B</td>\n",
              "      <td>8.8</td>\n",
              "      <td>1.000000</td>\n",
              "    </tr>\n",
              "    <tr>\n",
              "      <th>392</th>\n",
              "      <td>x32.1</td>\n",
              "      <td>12.0</td>\n",
              "      <td>0.124292</td>\n",
              "    </tr>\n",
              "    <tr>\n",
              "      <th>972</th>\n",
              "      <td>loan_type.2</td>\n",
              "      <td>4.8</td>\n",
              "      <td>0.120612</td>\n",
              "    </tr>\n",
              "    <tr>\n",
              "      <th>76</th>\n",
              "      <td>ltv</td>\n",
              "      <td>106.0</td>\n",
              "      <td>0.112584</td>\n",
              "    </tr>\n",
              "    <tr>\n",
              "      <th>77</th>\n",
              "      <td>cltv</td>\n",
              "      <td>21.2</td>\n",
              "      <td>0.110489</td>\n",
              "    </tr>\n",
              "    <tr>\n",
              "      <th>999</th>\n",
              "      <td>first_mort_s.-2</td>\n",
              "      <td>0.0</td>\n",
              "      <td>0.107247</td>\n",
              "    </tr>\n",
              "    <tr>\n",
              "      <th>374</th>\n",
              "      <td>x30b.1</td>\n",
              "      <td>0.4</td>\n",
              "      <td>0.105446</td>\n",
              "    </tr>\n",
              "    <tr>\n",
              "      <th>980</th>\n",
              "      <td>metro_lmi.2</td>\n",
              "      <td>1.6</td>\n",
              "      <td>0.103448</td>\n",
              "    </tr>\n",
              "    <tr>\n",
              "      <th>116</th>\n",
              "      <td>x06.1</td>\n",
              "      <td>7.2</td>\n",
              "      <td>0.102123</td>\n",
              "    </tr>\n",
              "    <tr>\n",
              "      <th>975</th>\n",
              "      <td>gse.-2</td>\n",
              "      <td>7.6</td>\n",
              "      <td>0.100339</td>\n",
              "    </tr>\n",
              "  </tbody>\n",
              "</table>\n",
              "</div>\n",
              "    <div class=\"colab-df-buttons\">\n",
              "\n",
              "  <div class=\"colab-df-container\">\n",
              "    <button class=\"colab-df-convert\" onclick=\"convertToInteractive('df-cecc0762-5fd8-4de9-9f40-de812c4602ef')\"\n",
              "            title=\"Convert this dataframe to an interactive table.\"\n",
              "            style=\"display:none;\">\n",
              "\n",
              "  <svg xmlns=\"http://www.w3.org/2000/svg\" height=\"24px\" viewBox=\"0 -960 960 960\">\n",
              "    <path d=\"M120-120v-720h720v720H120Zm60-500h600v-160H180v160Zm220 220h160v-160H400v160Zm0 220h160v-160H400v160ZM180-400h160v-160H180v160Zm440 0h160v-160H620v160ZM180-180h160v-160H180v160Zm440 0h160v-160H620v160Z\"/>\n",
              "  </svg>\n",
              "    </button>\n",
              "\n",
              "  <style>\n",
              "    .colab-df-container {\n",
              "      display:flex;\n",
              "      gap: 12px;\n",
              "    }\n",
              "\n",
              "    .colab-df-convert {\n",
              "      background-color: #E8F0FE;\n",
              "      border: none;\n",
              "      border-radius: 50%;\n",
              "      cursor: pointer;\n",
              "      display: none;\n",
              "      fill: #1967D2;\n",
              "      height: 32px;\n",
              "      padding: 0 0 0 0;\n",
              "      width: 32px;\n",
              "    }\n",
              "\n",
              "    .colab-df-convert:hover {\n",
              "      background-color: #E2EBFA;\n",
              "      box-shadow: 0px 1px 2px rgba(60, 64, 67, 0.3), 0px 1px 3px 1px rgba(60, 64, 67, 0.15);\n",
              "      fill: #174EA6;\n",
              "    }\n",
              "\n",
              "    .colab-df-buttons div {\n",
              "      margin-bottom: 4px;\n",
              "    }\n",
              "\n",
              "    [theme=dark] .colab-df-convert {\n",
              "      background-color: #3B4455;\n",
              "      fill: #D2E3FC;\n",
              "    }\n",
              "\n",
              "    [theme=dark] .colab-df-convert:hover {\n",
              "      background-color: #434B5C;\n",
              "      box-shadow: 0px 1px 3px 1px rgba(0, 0, 0, 0.15);\n",
              "      filter: drop-shadow(0px 1px 2px rgba(0, 0, 0, 0.3));\n",
              "      fill: #FFFFFF;\n",
              "    }\n",
              "  </style>\n",
              "\n",
              "    <script>\n",
              "      const buttonEl =\n",
              "        document.querySelector('#df-cecc0762-5fd8-4de9-9f40-de812c4602ef button.colab-df-convert');\n",
              "      buttonEl.style.display =\n",
              "        google.colab.kernel.accessAllowed ? 'block' : 'none';\n",
              "\n",
              "      async function convertToInteractive(key) {\n",
              "        const element = document.querySelector('#df-cecc0762-5fd8-4de9-9f40-de812c4602ef');\n",
              "        const dataTable =\n",
              "          await google.colab.kernel.invokeFunction('convertToInteractive',\n",
              "                                                    [key], {});\n",
              "        if (!dataTable) return;\n",
              "\n",
              "        const docLinkHtml = 'Like what you see? Visit the ' +\n",
              "          '<a target=\"_blank\" href=https://colab.research.google.com/notebooks/data_table.ipynb>data table notebook</a>'\n",
              "          + ' to learn more about interactive tables.';\n",
              "        element.innerHTML = '';\n",
              "        dataTable['output_type'] = 'display_data';\n",
              "        await google.colab.output.renderOutput(dataTable, element);\n",
              "        const docLink = document.createElement('div');\n",
              "        docLink.innerHTML = docLinkHtml;\n",
              "        element.appendChild(docLink);\n",
              "      }\n",
              "    </script>\n",
              "  </div>\n",
              "\n",
              "\n",
              "<div id=\"df-b8648865-1494-48ea-882e-6854a8fd0627\">\n",
              "  <button class=\"colab-df-quickchart\" onclick=\"quickchart('df-b8648865-1494-48ea-882e-6854a8fd0627')\"\n",
              "            title=\"Suggest charts\"\n",
              "            style=\"display:none;\">\n",
              "\n",
              "<svg xmlns=\"http://www.w3.org/2000/svg\" height=\"24px\"viewBox=\"0 0 24 24\"\n",
              "     width=\"24px\">\n",
              "    <g>\n",
              "        <path d=\"M19 3H5c-1.1 0-2 .9-2 2v14c0 1.1.9 2 2 2h14c1.1 0 2-.9 2-2V5c0-1.1-.9-2-2-2zM9 17H7v-7h2v7zm4 0h-2V7h2v10zm4 0h-2v-4h2v4z\"/>\n",
              "    </g>\n",
              "</svg>\n",
              "  </button>\n",
              "\n",
              "<style>\n",
              "  .colab-df-quickchart {\n",
              "      --bg-color: #E8F0FE;\n",
              "      --fill-color: #1967D2;\n",
              "      --hover-bg-color: #E2EBFA;\n",
              "      --hover-fill-color: #174EA6;\n",
              "      --disabled-fill-color: #AAA;\n",
              "      --disabled-bg-color: #DDD;\n",
              "  }\n",
              "\n",
              "  [theme=dark] .colab-df-quickchart {\n",
              "      --bg-color: #3B4455;\n",
              "      --fill-color: #D2E3FC;\n",
              "      --hover-bg-color: #434B5C;\n",
              "      --hover-fill-color: #FFFFFF;\n",
              "      --disabled-bg-color: #3B4455;\n",
              "      --disabled-fill-color: #666;\n",
              "  }\n",
              "\n",
              "  .colab-df-quickchart {\n",
              "    background-color: var(--bg-color);\n",
              "    border: none;\n",
              "    border-radius: 50%;\n",
              "    cursor: pointer;\n",
              "    display: none;\n",
              "    fill: var(--fill-color);\n",
              "    height: 32px;\n",
              "    padding: 0;\n",
              "    width: 32px;\n",
              "  }\n",
              "\n",
              "  .colab-df-quickchart:hover {\n",
              "    background-color: var(--hover-bg-color);\n",
              "    box-shadow: 0 1px 2px rgba(60, 64, 67, 0.3), 0 1px 3px 1px rgba(60, 64, 67, 0.15);\n",
              "    fill: var(--button-hover-fill-color);\n",
              "  }\n",
              "\n",
              "  .colab-df-quickchart-complete:disabled,\n",
              "  .colab-df-quickchart-complete:disabled:hover {\n",
              "    background-color: var(--disabled-bg-color);\n",
              "    fill: var(--disabled-fill-color);\n",
              "    box-shadow: none;\n",
              "  }\n",
              "\n",
              "  .colab-df-spinner {\n",
              "    border: 2px solid var(--fill-color);\n",
              "    border-color: transparent;\n",
              "    border-bottom-color: var(--fill-color);\n",
              "    animation:\n",
              "      spin 1s steps(1) infinite;\n",
              "  }\n",
              "\n",
              "  @keyframes spin {\n",
              "    0% {\n",
              "      border-color: transparent;\n",
              "      border-bottom-color: var(--fill-color);\n",
              "      border-left-color: var(--fill-color);\n",
              "    }\n",
              "    20% {\n",
              "      border-color: transparent;\n",
              "      border-left-color: var(--fill-color);\n",
              "      border-top-color: var(--fill-color);\n",
              "    }\n",
              "    30% {\n",
              "      border-color: transparent;\n",
              "      border-left-color: var(--fill-color);\n",
              "      border-top-color: var(--fill-color);\n",
              "      border-right-color: var(--fill-color);\n",
              "    }\n",
              "    40% {\n",
              "      border-color: transparent;\n",
              "      border-right-color: var(--fill-color);\n",
              "      border-top-color: var(--fill-color);\n",
              "    }\n",
              "    60% {\n",
              "      border-color: transparent;\n",
              "      border-right-color: var(--fill-color);\n",
              "    }\n",
              "    80% {\n",
              "      border-color: transparent;\n",
              "      border-right-color: var(--fill-color);\n",
              "      border-bottom-color: var(--fill-color);\n",
              "    }\n",
              "    90% {\n",
              "      border-color: transparent;\n",
              "      border-bottom-color: var(--fill-color);\n",
              "    }\n",
              "  }\n",
              "</style>\n",
              "\n",
              "  <script>\n",
              "    async function quickchart(key) {\n",
              "      const quickchartButtonEl =\n",
              "        document.querySelector('#' + key + ' button');\n",
              "      quickchartButtonEl.disabled = true;  // To prevent multiple clicks.\n",
              "      quickchartButtonEl.classList.add('colab-df-spinner');\n",
              "      try {\n",
              "        const charts = await google.colab.kernel.invokeFunction(\n",
              "            'suggestCharts', [key], {});\n",
              "      } catch (error) {\n",
              "        console.error('Error during call to suggestCharts:', error);\n",
              "      }\n",
              "      quickchartButtonEl.classList.remove('colab-df-spinner');\n",
              "      quickchartButtonEl.classList.add('colab-df-quickchart-complete');\n",
              "    }\n",
              "    (() => {\n",
              "      let quickchartButtonEl =\n",
              "        document.querySelector('#df-b8648865-1494-48ea-882e-6854a8fd0627 button');\n",
              "      quickchartButtonEl.style.display =\n",
              "        google.colab.kernel.accessAllowed ? 'block' : 'none';\n",
              "    })();\n",
              "  </script>\n",
              "</div>\n",
              "    </div>\n",
              "  </div>\n"
            ]
          },
          "metadata": {},
          "execution_count": 42
        }
      ]
    },
    {
      "cell_type": "markdown",
      "source": [
        "### Build an unawareness model that removes the protected attribute and proxies"
      ],
      "metadata": {
        "id": "qJM4Kh68-ApJ"
      },
      "id": "qJM4Kh68-ApJ"
    },
    {
      "cell_type": "code",
      "source": [
        "# Prepare the data by dropping race and proxies from the dataset\n",
        "nsmo_unaware = nsmo.copy()\n",
        "race_col = [col for col in nsmo_unaware if col.startswith('race.')]\n",
        "nsmo_unaware.drop(race_col + proxies, axis=1, inplace=True)"
      ],
      "metadata": {
        "id": "OkJ8B52hrtRY"
      },
      "id": "OkJ8B52hrtRY",
      "execution_count": null,
      "outputs": []
    },
    {
      "cell_type": "code",
      "source": [
        "# Split the data\n",
        "nsmo_train_valid, nsmo_test = train_test_split(nsmo_unaware, test_size=0.20,\n",
        "                                               random_state=random_seeds['split'][0])"
      ],
      "metadata": {
        "id": "w8Z8RHr-0IAj"
      },
      "id": "w8Z8RHr-0IAj",
      "execution_count": null,
      "outputs": []
    },
    {
      "cell_type": "code",
      "source": [
        "# Extract and drop features from data\n",
        "nsmo_train_valid, nsmo_train_valid_id, nsmo_train_valid_labels = extract_features(nsmo_train_valid)\n",
        "nsmo_test, nsmo_test_id, nsmo_test_labels = extract_features(nsmo_test)"
      ],
      "metadata": {
        "id": "0erzC2yE0Jaz"
      },
      "id": "0erzC2yE0Jaz",
      "execution_count": null,
      "outputs": []
    },
    {
      "cell_type": "code",
      "source": [
        "# Record features\n",
        "features = nsmo_train_valid.columns\n",
        "\n",
        "# Convert to np arrays\n",
        "nsmo_train_valid = np.array(nsmo_train_valid)\n",
        "nsmo_train_valid_labels = np.array(nsmo_train_valid_labels)\n",
        "\n",
        "# Empty array for feature importances\n",
        "feature_importance_values = np.zeros(nsmo_train_valid.shape[1])\n",
        "\n",
        "# Empty array for test predictions\n",
        "test_predictions = np.zeros(nsmo_test.shape[0])"
      ],
      "metadata": {
        "id": "D4E5qtbZQ4L9"
      },
      "id": "D4E5qtbZQ4L9",
      "execution_count": null,
      "outputs": []
    },
    {
      "cell_type": "code",
      "source": [
        "# Iterate through each fold\n",
        "for train_indices, valid_indices in k_fold.split(nsmo_train_valid):\n",
        "  # Training data for the fold\n",
        "  nsmo_train = nsmo_train_valid[train_indices]\n",
        "  nsmo_train_labels = nsmo_train_valid_labels[train_indices]\n",
        "  # Validation data for the fold\n",
        "  nsmo_valid = nsmo_train_valid[valid_indices]\n",
        "  nsmo_valid_labels = nsmo_train_valid_labels[valid_indices]\n",
        "\n",
        "  # Train the unawareness model\n",
        "  model = train_model(nsmo_train, nsmo_valid, nsmo_train_labels, nsmo_valid_labels)\n",
        "\n",
        "  # Record the feature importances\n",
        "  feature_importance_values += (model.feature_importances_ / k_fold.n_splits)\n",
        "\n",
        "  # Make predictions\n",
        "  test_predictions += (model.predict_proba(nsmo_test)[:, 1] / k_fold.n_splits)"
      ],
      "metadata": {
        "colab": {
          "base_uri": "https://localhost:8080/"
        },
        "id": "vXjfSgt10Kh6",
        "outputId": "8ee80d2d-1dd7-4d6f-ebdd-f2f3fd0e0d34"
      },
      "id": "vXjfSgt10Kh6",
      "execution_count": null,
      "outputs": [
        {
          "output_type": "stream",
          "name": "stdout",
          "text": [
            "[LightGBM] [Info] Number of positive: 514, number of negative: 28436\n",
            "[LightGBM] [Info] Auto-choosing row-wise multi-threading, the overhead of testing was 0.105440 seconds.\n",
            "You can set `force_row_wise=true` to remove the overhead.\n",
            "And if memory is not enough, you can set `force_col_wise=true`.\n",
            "[LightGBM] [Info] Total Bins 3533\n",
            "[LightGBM] [Info] Number of data points in the train set: 28950, number of used features: 894\n",
            "[LightGBM] [Info] [binary:BoostFromScore]: pavg=0.500000 -> initscore=-0.000000\n",
            "[LightGBM] [Info] Start training from score -0.000000\n",
            "Training until validation scores don't improve for 100 rounds\n",
            "Early stopping, best iteration is:\n",
            "[106]\ttrain's auc: 0.996254\ttrain's binary_logloss: 0.158828\tvalid's auc: 0.868091\tvalid's binary_logloss: 0.201093\n",
            "[LightGBM] [Info] Number of positive: 501, number of negative: 28449\n",
            "[LightGBM] [Info] Auto-choosing row-wise multi-threading, the overhead of testing was 0.265246 seconds.\n",
            "You can set `force_row_wise=true` to remove the overhead.\n",
            "And if memory is not enough, you can set `force_col_wise=true`.\n",
            "[LightGBM] [Info] Total Bins 3540\n",
            "[LightGBM] [Info] Number of data points in the train set: 28950, number of used features: 897\n",
            "[LightGBM] [Info] [binary:BoostFromScore]: pavg=0.500000 -> initscore=0.000000\n",
            "[LightGBM] [Info] Start training from score 0.000000\n",
            "Training until validation scores don't improve for 100 rounds\n",
            "Early stopping, best iteration is:\n",
            "[102]\ttrain's auc: 0.995575\ttrain's binary_logloss: 0.164099\tvalid's auc: 0.883596\tvalid's binary_logloss: 0.211864\n",
            "[LightGBM] [Info] Number of positive: 510, number of negative: 28440\n",
            "[LightGBM] [Info] Auto-choosing row-wise multi-threading, the overhead of testing was 0.105574 seconds.\n",
            "You can set `force_row_wise=true` to remove the overhead.\n",
            "And if memory is not enough, you can set `force_col_wise=true`.\n",
            "[LightGBM] [Info] Total Bins 3540\n",
            "[LightGBM] [Info] Number of data points in the train set: 28950, number of used features: 895\n",
            "[LightGBM] [Info] [binary:BoostFromScore]: pavg=0.500000 -> initscore=-0.000000\n",
            "[LightGBM] [Info] Start training from score -0.000000\n",
            "Training until validation scores don't improve for 100 rounds\n",
            "Early stopping, best iteration is:\n",
            "[71]\ttrain's auc: 0.987616\ttrain's binary_logloss: 0.216235\tvalid's auc: 0.878212\tvalid's binary_logloss: 0.262384\n",
            "[LightGBM] [Info] Number of positive: 526, number of negative: 28425\n",
            "[LightGBM] [Info] Auto-choosing row-wise multi-threading, the overhead of testing was 0.105644 seconds.\n",
            "You can set `force_row_wise=true` to remove the overhead.\n",
            "And if memory is not enough, you can set `force_col_wise=true`.\n",
            "[LightGBM] [Info] Total Bins 3527\n",
            "[LightGBM] [Info] Number of data points in the train set: 28951, number of used features: 895\n",
            "[LightGBM] [Info] [binary:BoostFromScore]: pavg=0.500000 -> initscore=-0.000000\n",
            "[LightGBM] [Info] Start training from score -0.000000\n",
            "Training until validation scores don't improve for 100 rounds\n",
            "Early stopping, best iteration is:\n",
            "[102]\ttrain's auc: 0.995917\ttrain's binary_logloss: 0.163447\tvalid's auc: 0.868583\tvalid's binary_logloss: 0.215524\n",
            "[LightGBM] [Info] Number of positive: 501, number of negative: 28450\n",
            "[LightGBM] [Info] Auto-choosing row-wise multi-threading, the overhead of testing was 0.588486 seconds.\n",
            "You can set `force_row_wise=true` to remove the overhead.\n",
            "And if memory is not enough, you can set `force_col_wise=true`.\n",
            "[LightGBM] [Info] Total Bins 3533\n",
            "[LightGBM] [Info] Number of data points in the train set: 28951, number of used features: 895\n",
            "[LightGBM] [Info] [binary:BoostFromScore]: pavg=0.500000 -> initscore=-0.000000\n",
            "[LightGBM] [Info] Start training from score -0.000000\n",
            "Training until validation scores don't improve for 100 rounds\n",
            "Early stopping, best iteration is:\n",
            "[88]\ttrain's auc: 0.992942\ttrain's binary_logloss: 0.183232\tvalid's auc: 0.875867\tvalid's binary_logloss: 0.228223\n"
          ]
        }
      ]
    },
    {
      "cell_type": "code",
      "source": [
        "# Create a results dataframe (nsmoid, race, labels, predictions)\n",
        "results = pd.concat([nsmo_test_id, nsmo_test_labels], axis=1)\n",
        "results['predictions'] = test_predictions\n",
        "results = pd.merge(results, nsmo_race, on='nsmoid')"
      ],
      "metadata": {
        "id": "4ni3HheE0Lmi"
      },
      "id": "4ni3HheE0Lmi",
      "execution_count": null,
      "outputs": []
    },
    {
      "cell_type": "code",
      "source": [
        "# Calculate ROC/AUC score for the unawareness model\n",
        "roc_unaware = roc_auc_score(results['perf_status'], results['predictions'])\n",
        "roc_unaware_white = roc_auc_score(results[results['race'] == 'W'][\n",
        "      'perf_status'], results[results['race'] == 'W']['predictions'])\n",
        "roc_unaware_black = roc_auc_score(results[results['race'] == 'B'][\n",
        "      'perf_status'], results[results['race'] == 'B']['predictions'])"
      ],
      "metadata": {
        "id": "b3bMT7Cf0M02"
      },
      "id": "b3bMT7Cf0M02",
      "execution_count": null,
      "outputs": []
    },
    {
      "cell_type": "markdown",
      "source": [
        "### Build two backdoor adjusted models: a counterfactual model where race is fixed (White) and a factual model with the factual race"
      ],
      "metadata": {
        "id": "CQOdM9ZTLiBC"
      },
      "id": "CQOdM9ZTLiBC"
    },
    {
      "cell_type": "code",
      "source": [
        "# Split the data\n",
        "nsmo_train_valid, nsmo_test = train_test_split(nsmo, test_size=0.20,\n",
        "                                               random_state=random_seeds['split'][0])"
      ],
      "metadata": {
        "id": "IIs9xOaUsD1_"
      },
      "id": "IIs9xOaUsD1_",
      "execution_count": null,
      "outputs": []
    },
    {
      "cell_type": "code",
      "source": [
        "# Extract and drop features from data\n",
        "nsmo_train_valid, nsmo_train_valid_id, nsmo_train_valid_labels = extract_features(nsmo_train_valid)\n",
        "nsmo_test, nsmo_test_id, nsmo_test_labels = extract_features(nsmo_test)"
      ],
      "metadata": {
        "id": "Sux9NP3-zzXn"
      },
      "id": "Sux9NP3-zzXn",
      "execution_count": null,
      "outputs": []
    },
    {
      "cell_type": "code",
      "source": [
        "# Record features\n",
        "features = nsmo_train_valid.columns\n",
        "\n",
        "# Convert to np arrays\n",
        "nsmo_train_valid = np.array(nsmo_train_valid)\n",
        "nsmo_train_valid_labels = np.array(nsmo_train_valid_labels)\n",
        "\n",
        "# Empty array for feature importances\n",
        "feature_importance_values = np.zeros(nsmo_train_valid.shape[1])\n",
        "\n",
        "# Empty array for test predictions\n",
        "test_predictions_cf = np.zeros(nsmo_test.shape[0])\n",
        "test_predictions_ld = np.zeros(nsmo_test.shape[0])"
      ],
      "metadata": {
        "id": "aUDjvjvtRd-m"
      },
      "id": "aUDjvjvtRd-m",
      "execution_count": null,
      "outputs": []
    },
    {
      "cell_type": "code",
      "source": [
        "# Make a counterfactual nsmo_test dataset\n",
        "nsmo_test_cf = nsmo_test.copy()\n",
        "nsmo_test_cf[race_col] = 0\n",
        "nsmo_test_cf['race.W'] = 1"
      ],
      "metadata": {
        "id": "dotVPeJ5RzQm"
      },
      "id": "dotVPeJ5RzQm",
      "execution_count": null,
      "outputs": []
    },
    {
      "cell_type": "code",
      "source": [
        "# Iterate through each fold\n",
        "for train_indices, valid_indices in k_fold.split(nsmo_train_valid):\n",
        "  # Training data for the fold\n",
        "  nsmo_train = nsmo_train_valid[train_indices]\n",
        "  nsmo_train_labels = nsmo_train_valid_labels[train_indices]\n",
        "  # Validation data for the fold\n",
        "  nsmo_valid = nsmo_train_valid[valid_indices]\n",
        "  nsmo_valid_labels = nsmo_train_valid_labels[valid_indices]\n",
        "\n",
        "  # Train the awareness model\n",
        "  model = train_model(nsmo_train, nsmo_valid, nsmo_train_labels, nsmo_valid_labels)\n",
        "\n",
        "  # Record the feature importances\n",
        "  feature_importance_values += (model.feature_importances_ / k_fold.n_splits)\n",
        "\n",
        "  # Make predictions\n",
        "  pred_factual = model.predict_proba(nsmo_test)[:,1]\n",
        "  pred_cf = model.predict_proba(nsmo_test_cf)[:,1]\n",
        "  pred_ld = np.minimum(pred_cf, pred_factual)\n",
        "\n",
        "  test_predictions_cf += (pred_cf / k_fold.n_splits)\n",
        "  test_predictions_ld += (pred_ld / k_fold.n_splits)"
      ],
      "metadata": {
        "colab": {
          "base_uri": "https://localhost:8080/"
        },
        "id": "lx7m9MF2znov",
        "outputId": "39f832ea-0d92-4ad6-fce9-389ec46d6560"
      },
      "id": "lx7m9MF2znov",
      "execution_count": null,
      "outputs": [
        {
          "output_type": "stream",
          "name": "stdout",
          "text": [
            "[LightGBM] [Info] Number of positive: 514, number of negative: 28436\n",
            "[LightGBM] [Info] Auto-choosing row-wise multi-threading, the overhead of testing was 0.130524 seconds.\n",
            "You can set `force_row_wise=true` to remove the overhead.\n",
            "And if memory is not enough, you can set `force_col_wise=true`.\n",
            "[LightGBM] [Info] Total Bins 3721\n",
            "[LightGBM] [Info] Number of data points in the train set: 28950, number of used features: 988\n",
            "[LightGBM] [Info] [binary:BoostFromScore]: pavg=0.500000 -> initscore=-0.000000\n",
            "[LightGBM] [Info] Start training from score -0.000000\n",
            "Training until validation scores don't improve for 100 rounds\n",
            "Early stopping, best iteration is:\n",
            "[112]\ttrain's auc: 0.997604\ttrain's binary_logloss: 0.144648\tvalid's auc: 0.868796\tvalid's binary_logloss: 0.188708\n",
            "[LightGBM] [Info] Number of positive: 501, number of negative: 28449\n",
            "[LightGBM] [Info] Auto-choosing row-wise multi-threading, the overhead of testing was 0.125593 seconds.\n",
            "You can set `force_row_wise=true` to remove the overhead.\n",
            "And if memory is not enough, you can set `force_col_wise=true`.\n",
            "[LightGBM] [Info] Total Bins 3728\n",
            "[LightGBM] [Info] Number of data points in the train set: 28950, number of used features: 991\n",
            "[LightGBM] [Info] [binary:BoostFromScore]: pavg=0.500000 -> initscore=0.000000\n",
            "[LightGBM] [Info] Start training from score 0.000000\n",
            "Training until validation scores don't improve for 100 rounds\n",
            "Early stopping, best iteration is:\n",
            "[102]\ttrain's auc: 0.996077\ttrain's binary_logloss: 0.158558\tvalid's auc: 0.883408\tvalid's binary_logloss: 0.205608\n",
            "[LightGBM] [Info] Number of positive: 510, number of negative: 28440\n",
            "[LightGBM] [Info] Auto-choosing row-wise multi-threading, the overhead of testing was 0.128424 seconds.\n",
            "You can set `force_row_wise=true` to remove the overhead.\n",
            "And if memory is not enough, you can set `force_col_wise=true`.\n",
            "[LightGBM] [Info] Total Bins 3728\n",
            "[LightGBM] [Info] Number of data points in the train set: 28950, number of used features: 989\n",
            "[LightGBM] [Info] [binary:BoostFromScore]: pavg=0.500000 -> initscore=-0.000000\n",
            "[LightGBM] [Info] Start training from score -0.000000\n",
            "Training until validation scores don't improve for 100 rounds\n",
            "Early stopping, best iteration is:\n",
            "[89]\ttrain's auc: 0.9939\ttrain's binary_logloss: 0.177529\tvalid's auc: 0.886956\tvalid's binary_logloss: 0.223636\n",
            "[LightGBM] [Info] Number of positive: 526, number of negative: 28425\n",
            "[LightGBM] [Info] Auto-choosing col-wise multi-threading, the overhead of testing was 0.381210 seconds.\n",
            "You can set `force_col_wise=true` to remove the overhead.\n",
            "[LightGBM] [Info] Total Bins 3715\n",
            "[LightGBM] [Info] Number of data points in the train set: 28951, number of used features: 989\n",
            "[LightGBM] [Info] [binary:BoostFromScore]: pavg=0.500000 -> initscore=-0.000000\n",
            "[LightGBM] [Info] Start training from score -0.000000\n",
            "Training until validation scores don't improve for 100 rounds\n",
            "Early stopping, best iteration is:\n",
            "[151]\ttrain's auc: 0.999361\ttrain's binary_logloss: 0.11096\tvalid's auc: 0.866915\tvalid's binary_logloss: 0.159688\n",
            "[LightGBM] [Info] Number of positive: 501, number of negative: 28450\n",
            "[LightGBM] [Info] Auto-choosing row-wise multi-threading, the overhead of testing was 0.213314 seconds.\n",
            "You can set `force_row_wise=true` to remove the overhead.\n",
            "And if memory is not enough, you can set `force_col_wise=true`.\n",
            "[LightGBM] [Info] Total Bins 3721\n",
            "[LightGBM] [Info] Number of data points in the train set: 28951, number of used features: 989\n",
            "[LightGBM] [Info] [binary:BoostFromScore]: pavg=0.500000 -> initscore=-0.000000\n",
            "[LightGBM] [Info] Start training from score -0.000000\n",
            "Training until validation scores don't improve for 100 rounds\n",
            "Early stopping, best iteration is:\n",
            "[67]\ttrain's auc: 0.9861\ttrain's binary_logloss: 0.217089\tvalid's auc: 0.874159\tvalid's binary_logloss: 0.260576\n"
          ]
        }
      ]
    },
    {
      "cell_type": "code",
      "source": [
        "# Create a results dataframe (nsmoid, race, labels, predictions)\n",
        "results = pd.concat([nsmo_test_id, nsmo_test_labels], axis=1)\n",
        "results['predictions'] = test_predictions_cf\n",
        "results = pd.merge(results, nsmo_race, on='nsmoid')"
      ],
      "metadata": {
        "id": "5tvZ1bbzzu0P"
      },
      "id": "5tvZ1bbzzu0P",
      "execution_count": null,
      "outputs": []
    },
    {
      "cell_type": "code",
      "source": [
        "# Calculate ROC/AUC score for the backdoor counterfactual model\n",
        "roc_bd_cf = roc_auc_score(results['perf_status'], results['predictions'])\n",
        "roc_bd_cf_white = roc_auc_score(results[results['race'] == 'W'][\n",
        "      'perf_status'], results[results['race'] == 'W']['predictions'])\n",
        "roc_bd_cf_black = roc_auc_score(results[results['race'] == 'B'][\n",
        "      'perf_status'], results[results['race'] == 'B']['predictions'])"
      ],
      "metadata": {
        "id": "SoY7PRJ0zvse"
      },
      "id": "SoY7PRJ0zvse",
      "execution_count": null,
      "outputs": []
    },
    {
      "cell_type": "code",
      "source": [
        "# Create a results dataframe (nsmoid, race, labels, predictions)\n",
        "results = pd.concat([nsmo_test_id, nsmo_test_labels], axis=1)\n",
        "results['predictions'] = test_predictions_ld\n",
        "results = pd.merge(results, nsmo_race, on='nsmoid')"
      ],
      "metadata": {
        "id": "3KoPMBGPzxdf"
      },
      "id": "3KoPMBGPzxdf",
      "execution_count": null,
      "outputs": []
    },
    {
      "cell_type": "code",
      "source": [
        "# Calculate ROC/AUC score for the backdoor less discriminatory model\n",
        "roc_bd_ld = roc_auc_score(results['perf_status'], results['predictions'])\n",
        "roc_bd_ld_white = roc_auc_score(results[results['race'] == 'W'][\n",
        "      'perf_status'], results[results['race'] == 'W']['predictions'])\n",
        "roc_bd_ld_black = roc_auc_score(results[results['race'] == 'B'][\n",
        "      'perf_status'], results[results['race'] == 'B']['predictions'])"
      ],
      "metadata": {
        "id": "JBoSrK4kzyBH"
      },
      "id": "JBoSrK4kzyBH",
      "execution_count": null,
      "outputs": []
    },
    {
      "cell_type": "code",
      "source": [
        "# Gather ROC scores for each group\n",
        "roc_score = pd.Series({'aware':roc_aware, 'unaware':roc_unaware, 'bd_cf':\n",
        "                       roc_bd_cf, 'bd_ld':roc_bd_ld})\n",
        "roc_score_white = pd.Series({'aware_white':roc_aware_white, 'unaware_white':\n",
        "                             roc_unaware_white, 'bd_cf_white':roc_bd_cf_white,\n",
        "                             'bd_ld_white':roc_bd_ld_white})\n",
        "roc_score_black = pd.Series({'aware_black':roc_aware_black, 'unaware_black':\n",
        "                             roc_unaware_black, 'bd_cf_black':roc_bd_cf_black,\n",
        "                             'bd_ld_black':roc_bd_ld_black})"
      ],
      "metadata": {
        "id": "hJhBHUACxhao"
      },
      "id": "hJhBHUACxhao",
      "execution_count": null,
      "outputs": []
    },
    {
      "cell_type": "code",
      "source": [
        "roc_score"
      ],
      "metadata": {
        "id": "80q4VblAl-cg",
        "colab": {
          "base_uri": "https://localhost:8080/"
        },
        "outputId": "3706e893-8872-477e-fd8b-713003f73e7d"
      },
      "id": "80q4VblAl-cg",
      "execution_count": null,
      "outputs": [
        {
          "output_type": "execute_result",
          "data": {
            "text/plain": [
              "aware      0.872828\n",
              "unaware    0.870351\n",
              "bd_cf      0.872244\n",
              "bd_ld      0.872688\n",
              "dtype: float64"
            ]
          },
          "metadata": {},
          "execution_count": 60
        }
      ]
    },
    {
      "cell_type": "code",
      "source": [
        "roc_score_white"
      ],
      "metadata": {
        "colab": {
          "base_uri": "https://localhost:8080/"
        },
        "id": "3X3ICCcZgZJ1",
        "outputId": "5dfb31a8-21ea-4893-fa1a-0d1103e3a7a7"
      },
      "id": "3X3ICCcZgZJ1",
      "execution_count": null,
      "outputs": [
        {
          "output_type": "execute_result",
          "data": {
            "text/plain": [
              "aware_white      0.861081\n",
              "unaware_white    0.859594\n",
              "bd_cf_white      0.861081\n",
              "bd_ld_white      0.861081\n",
              "dtype: float64"
            ]
          },
          "metadata": {},
          "execution_count": 61
        }
      ]
    },
    {
      "cell_type": "code",
      "source": [
        "roc_score_black"
      ],
      "metadata": {
        "colab": {
          "base_uri": "https://localhost:8080/"
        },
        "id": "zBmcjk0Ngalr",
        "outputId": "50aa7039-9a98-4d50-b07c-fd0a06d974af"
      },
      "id": "zBmcjk0Ngalr",
      "execution_count": null,
      "outputs": [
        {
          "output_type": "execute_result",
          "data": {
            "text/plain": [
              "aware_black      0.854398\n",
              "unaware_black    0.841037\n",
              "bd_cf_black      0.854113\n",
              "bd_ld_black      0.854739\n",
              "dtype: float64"
            ]
          },
          "metadata": {},
          "execution_count": 62
        }
      ]
    }
  ],
  "metadata": {
    "kernelspec": {
      "display_name": "Python 3",
      "language": "python",
      "name": "python3"
    },
    "language_info": {
      "codemirror_mode": {
        "name": "ipython",
        "version": 3
      },
      "file_extension": ".py",
      "mimetype": "text/x-python",
      "name": "python",
      "nbconvert_exporter": "python",
      "pygments_lexer": "ipython3",
      "version": "3.9.15"
    },
    "colab": {
      "provenance": [],
      "include_colab_link": true
    }
  },
  "nbformat": 4,
  "nbformat_minor": 5
}